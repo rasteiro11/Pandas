{
 "metadata": {
  "language_info": {
   "codemirror_mode": {
    "name": "ipython",
    "version": 3
   },
   "file_extension": ".py",
   "mimetype": "text/x-python",
   "name": "python",
   "nbconvert_exporter": "python",
   "pygments_lexer": "ipython3",
   "version": "3.9.5"
  },
  "orig_nbformat": 4,
  "kernelspec": {
   "name": "python3",
   "display_name": "Python 3.9.5 64-bit (windows store)"
  },
  "interpreter": {
   "hash": "3d63908e3980ac177829f34ca6b4122ea4edd056e44316b5e6694f7b721255f3"
  }
 },
 "nbformat": 4,
 "nbformat_minor": 2,
 "cells": [
  {
   "cell_type": "code",
   "execution_count": 3,
   "metadata": {},
   "outputs": [],
   "source": [
    "import pandas as pd"
   ]
  },
  {
   "cell_type": "code",
   "execution_count": 4,
   "metadata": {},
   "outputs": [],
   "source": [
    "import numpy as np"
   ]
  },
  {
   "cell_type": "code",
   "execution_count": 5,
   "metadata": {},
   "outputs": [],
   "source": [
    "df = pd.read_csv('mpg.csv')"
   ]
  },
  {
   "cell_type": "code",
   "execution_count": 6,
   "metadata": {},
   "outputs": [
    {
     "output_type": "execute_result",
     "data": {
      "text/plain": [
       "      mpg  cylinders  displacement horsepower  weight  acceleration  \\\n",
       "0    18.0          8         307.0        130    3504          12.0   \n",
       "1    15.0          8         350.0        165    3693          11.5   \n",
       "2    18.0          8         318.0        150    3436          11.0   \n",
       "3    16.0          8         304.0        150    3433          12.0   \n",
       "4    17.0          8         302.0        140    3449          10.5   \n",
       "..    ...        ...           ...        ...     ...           ...   \n",
       "393  27.0          4         140.0         86    2790          15.6   \n",
       "394  44.0          4          97.0         52    2130          24.6   \n",
       "395  32.0          4         135.0         84    2295          11.6   \n",
       "396  28.0          4         120.0         79    2625          18.6   \n",
       "397  31.0          4         119.0         82    2720          19.4   \n",
       "\n",
       "     model_year  origin                       name  \n",
       "0            70       1  chevrolet chevelle malibu  \n",
       "1            70       1          buick skylark 320  \n",
       "2            70       1         plymouth satellite  \n",
       "3            70       1              amc rebel sst  \n",
       "4            70       1                ford torino  \n",
       "..          ...     ...                        ...  \n",
       "393          82       1            ford mustang gl  \n",
       "394          82       2                  vw pickup  \n",
       "395          82       1              dodge rampage  \n",
       "396          82       1                ford ranger  \n",
       "397          82       1                 chevy s-10  \n",
       "\n",
       "[398 rows x 9 columns]"
      ],
      "text/html": "<div>\n<style scoped>\n    .dataframe tbody tr th:only-of-type {\n        vertical-align: middle;\n    }\n\n    .dataframe tbody tr th {\n        vertical-align: top;\n    }\n\n    .dataframe thead th {\n        text-align: right;\n    }\n</style>\n<table border=\"1\" class=\"dataframe\">\n  <thead>\n    <tr style=\"text-align: right;\">\n      <th></th>\n      <th>mpg</th>\n      <th>cylinders</th>\n      <th>displacement</th>\n      <th>horsepower</th>\n      <th>weight</th>\n      <th>acceleration</th>\n      <th>model_year</th>\n      <th>origin</th>\n      <th>name</th>\n    </tr>\n  </thead>\n  <tbody>\n    <tr>\n      <th>0</th>\n      <td>18.0</td>\n      <td>8</td>\n      <td>307.0</td>\n      <td>130</td>\n      <td>3504</td>\n      <td>12.0</td>\n      <td>70</td>\n      <td>1</td>\n      <td>chevrolet chevelle malibu</td>\n    </tr>\n    <tr>\n      <th>1</th>\n      <td>15.0</td>\n      <td>8</td>\n      <td>350.0</td>\n      <td>165</td>\n      <td>3693</td>\n      <td>11.5</td>\n      <td>70</td>\n      <td>1</td>\n      <td>buick skylark 320</td>\n    </tr>\n    <tr>\n      <th>2</th>\n      <td>18.0</td>\n      <td>8</td>\n      <td>318.0</td>\n      <td>150</td>\n      <td>3436</td>\n      <td>11.0</td>\n      <td>70</td>\n      <td>1</td>\n      <td>plymouth satellite</td>\n    </tr>\n    <tr>\n      <th>3</th>\n      <td>16.0</td>\n      <td>8</td>\n      <td>304.0</td>\n      <td>150</td>\n      <td>3433</td>\n      <td>12.0</td>\n      <td>70</td>\n      <td>1</td>\n      <td>amc rebel sst</td>\n    </tr>\n    <tr>\n      <th>4</th>\n      <td>17.0</td>\n      <td>8</td>\n      <td>302.0</td>\n      <td>140</td>\n      <td>3449</td>\n      <td>10.5</td>\n      <td>70</td>\n      <td>1</td>\n      <td>ford torino</td>\n    </tr>\n    <tr>\n      <th>...</th>\n      <td>...</td>\n      <td>...</td>\n      <td>...</td>\n      <td>...</td>\n      <td>...</td>\n      <td>...</td>\n      <td>...</td>\n      <td>...</td>\n      <td>...</td>\n    </tr>\n    <tr>\n      <th>393</th>\n      <td>27.0</td>\n      <td>4</td>\n      <td>140.0</td>\n      <td>86</td>\n      <td>2790</td>\n      <td>15.6</td>\n      <td>82</td>\n      <td>1</td>\n      <td>ford mustang gl</td>\n    </tr>\n    <tr>\n      <th>394</th>\n      <td>44.0</td>\n      <td>4</td>\n      <td>97.0</td>\n      <td>52</td>\n      <td>2130</td>\n      <td>24.6</td>\n      <td>82</td>\n      <td>2</td>\n      <td>vw pickup</td>\n    </tr>\n    <tr>\n      <th>395</th>\n      <td>32.0</td>\n      <td>4</td>\n      <td>135.0</td>\n      <td>84</td>\n      <td>2295</td>\n      <td>11.6</td>\n      <td>82</td>\n      <td>1</td>\n      <td>dodge rampage</td>\n    </tr>\n    <tr>\n      <th>396</th>\n      <td>28.0</td>\n      <td>4</td>\n      <td>120.0</td>\n      <td>79</td>\n      <td>2625</td>\n      <td>18.6</td>\n      <td>82</td>\n      <td>1</td>\n      <td>ford ranger</td>\n    </tr>\n    <tr>\n      <th>397</th>\n      <td>31.0</td>\n      <td>4</td>\n      <td>119.0</td>\n      <td>82</td>\n      <td>2720</td>\n      <td>19.4</td>\n      <td>82</td>\n      <td>1</td>\n      <td>chevy s-10</td>\n    </tr>\n  </tbody>\n</table>\n<p>398 rows × 9 columns</p>\n</div>"
     },
     "metadata": {},
     "execution_count": 6
    }
   ],
   "source": [
    "df"
   ]
  },
  {
   "cell_type": "code",
   "execution_count": 7,
   "metadata": {},
   "outputs": [],
   "source": [
    "year_cyl = df.groupby(['model_year', 'cylinders']).mean()"
   ]
  },
  {
   "cell_type": "code",
   "execution_count": 8,
   "metadata": {},
   "outputs": [
    {
     "output_type": "execute_result",
     "data": {
      "text/plain": [
       "                 mpg  displacement       weight  acceleration    origin\n",
       "cylinders                                                              \n",
       "4          25.285714    107.000000  2292.571429     16.000000  2.285714\n",
       "6          20.500000    199.000000  2710.500000     15.500000  1.000000\n",
       "8          14.111111    367.555556  3940.055556     11.194444  1.000000"
      ],
      "text/html": "<div>\n<style scoped>\n    .dataframe tbody tr th:only-of-type {\n        vertical-align: middle;\n    }\n\n    .dataframe tbody tr th {\n        vertical-align: top;\n    }\n\n    .dataframe thead th {\n        text-align: right;\n    }\n</style>\n<table border=\"1\" class=\"dataframe\">\n  <thead>\n    <tr style=\"text-align: right;\">\n      <th></th>\n      <th>mpg</th>\n      <th>displacement</th>\n      <th>weight</th>\n      <th>acceleration</th>\n      <th>origin</th>\n    </tr>\n    <tr>\n      <th>cylinders</th>\n      <th></th>\n      <th></th>\n      <th></th>\n      <th></th>\n      <th></th>\n    </tr>\n  </thead>\n  <tbody>\n    <tr>\n      <th>4</th>\n      <td>25.285714</td>\n      <td>107.000000</td>\n      <td>2292.571429</td>\n      <td>16.000000</td>\n      <td>2.285714</td>\n    </tr>\n    <tr>\n      <th>6</th>\n      <td>20.500000</td>\n      <td>199.000000</td>\n      <td>2710.500000</td>\n      <td>15.500000</td>\n      <td>1.000000</td>\n    </tr>\n    <tr>\n      <th>8</th>\n      <td>14.111111</td>\n      <td>367.555556</td>\n      <td>3940.055556</td>\n      <td>11.194444</td>\n      <td>1.000000</td>\n    </tr>\n  </tbody>\n</table>\n</div>"
     },
     "metadata": {},
     "execution_count": 8
    }
   ],
   "source": [
    "year_cyl.xs(key=70, level='model_year')"
   ]
  },
  {
   "cell_type": "code",
   "execution_count": 10,
   "metadata": {},
   "outputs": [
    {
     "output_type": "execute_result",
     "data": {
      "text/plain": [
       "                  mpg  displacement       weight  acceleration    origin\n",
       "model_year                                                              \n",
       "70          25.285714    107.000000  2292.571429     16.000000  2.285714\n",
       "71          27.461538    101.846154  2056.384615     16.961538  1.923077\n",
       "72          23.428571    111.535714  2382.642857     17.214286  1.928571\n",
       "73          22.727273    109.272727  2338.090909     17.136364  2.000000\n",
       "74          27.800000     96.533333  2151.466667     16.400000  2.200000\n",
       "75          25.250000    114.833333  2489.250000     15.833333  2.166667\n",
       "76          26.766667    106.333333  2306.600000     16.866667  1.866667\n",
       "77          29.107143    106.500000  2205.071429     16.064286  1.857143\n",
       "78          29.576471    112.117647  2296.764706     16.282353  2.117647\n",
       "79          31.525000    113.583333  2357.583333     15.991667  1.583333\n",
       "80          34.612000    111.000000  2360.080000     17.144000  2.200000\n",
       "81          32.814286    108.857143  2275.476190     16.466667  2.095238\n",
       "82          32.071429    118.571429  2402.321429     16.703571  1.714286"
      ],
      "text/html": "<div>\n<style scoped>\n    .dataframe tbody tr th:only-of-type {\n        vertical-align: middle;\n    }\n\n    .dataframe tbody tr th {\n        vertical-align: top;\n    }\n\n    .dataframe thead th {\n        text-align: right;\n    }\n</style>\n<table border=\"1\" class=\"dataframe\">\n  <thead>\n    <tr style=\"text-align: right;\">\n      <th></th>\n      <th>mpg</th>\n      <th>displacement</th>\n      <th>weight</th>\n      <th>acceleration</th>\n      <th>origin</th>\n    </tr>\n    <tr>\n      <th>model_year</th>\n      <th></th>\n      <th></th>\n      <th></th>\n      <th></th>\n      <th></th>\n    </tr>\n  </thead>\n  <tbody>\n    <tr>\n      <th>70</th>\n      <td>25.285714</td>\n      <td>107.000000</td>\n      <td>2292.571429</td>\n      <td>16.000000</td>\n      <td>2.285714</td>\n    </tr>\n    <tr>\n      <th>71</th>\n      <td>27.461538</td>\n      <td>101.846154</td>\n      <td>2056.384615</td>\n      <td>16.961538</td>\n      <td>1.923077</td>\n    </tr>\n    <tr>\n      <th>72</th>\n      <td>23.428571</td>\n      <td>111.535714</td>\n      <td>2382.642857</td>\n      <td>17.214286</td>\n      <td>1.928571</td>\n    </tr>\n    <tr>\n      <th>73</th>\n      <td>22.727273</td>\n      <td>109.272727</td>\n      <td>2338.090909</td>\n      <td>17.136364</td>\n      <td>2.000000</td>\n    </tr>\n    <tr>\n      <th>74</th>\n      <td>27.800000</td>\n      <td>96.533333</td>\n      <td>2151.466667</td>\n      <td>16.400000</td>\n      <td>2.200000</td>\n    </tr>\n    <tr>\n      <th>75</th>\n      <td>25.250000</td>\n      <td>114.833333</td>\n      <td>2489.250000</td>\n      <td>15.833333</td>\n      <td>2.166667</td>\n    </tr>\n    <tr>\n      <th>76</th>\n      <td>26.766667</td>\n      <td>106.333333</td>\n      <td>2306.600000</td>\n      <td>16.866667</td>\n      <td>1.866667</td>\n    </tr>\n    <tr>\n      <th>77</th>\n      <td>29.107143</td>\n      <td>106.500000</td>\n      <td>2205.071429</td>\n      <td>16.064286</td>\n      <td>1.857143</td>\n    </tr>\n    <tr>\n      <th>78</th>\n      <td>29.576471</td>\n      <td>112.117647</td>\n      <td>2296.764706</td>\n      <td>16.282353</td>\n      <td>2.117647</td>\n    </tr>\n    <tr>\n      <th>79</th>\n      <td>31.525000</td>\n      <td>113.583333</td>\n      <td>2357.583333</td>\n      <td>15.991667</td>\n      <td>1.583333</td>\n    </tr>\n    <tr>\n      <th>80</th>\n      <td>34.612000</td>\n      <td>111.000000</td>\n      <td>2360.080000</td>\n      <td>17.144000</td>\n      <td>2.200000</td>\n    </tr>\n    <tr>\n      <th>81</th>\n      <td>32.814286</td>\n      <td>108.857143</td>\n      <td>2275.476190</td>\n      <td>16.466667</td>\n      <td>2.095238</td>\n    </tr>\n    <tr>\n      <th>82</th>\n      <td>32.071429</td>\n      <td>118.571429</td>\n      <td>2402.321429</td>\n      <td>16.703571</td>\n      <td>1.714286</td>\n    </tr>\n  </tbody>\n</table>\n</div>"
     },
     "metadata": {},
     "execution_count": 10
    }
   ],
   "source": [
    "year_cyl.xs(key=4, level='cylinders')"
   ]
  },
  {
   "cell_type": "code",
   "execution_count": 11,
   "metadata": {},
   "outputs": [
    {
     "output_type": "execute_result",
     "data": {
      "text/plain": [
       "                            mpg  displacement       weight  acceleration  \\\n",
       "model_year cylinders                                                       \n",
       "70         6          20.500000    199.000000  2710.500000     15.500000   \n",
       "           8          14.111111    367.555556  3940.055556     11.194444   \n",
       "71         6          18.000000    243.375000  3171.875000     14.750000   \n",
       "           8          13.428571    371.714286  4537.714286     12.214286   \n",
       "72         8          13.615385    344.846154  4228.384615     13.000000   \n",
       "73         6          19.000000    212.250000  2917.125000     15.687500   \n",
       "           8          13.200000    365.250000  4279.050000     12.250000   \n",
       "74         6          17.857143    230.428571  3320.000000     16.857143   \n",
       "           8          14.200000    315.200000  4438.400000     14.700000   \n",
       "75         6          17.583333    233.750000  3398.333333     17.708333   \n",
       "           8          15.666667    330.500000  4108.833333     13.166667   \n",
       "76         6          20.000000    221.400000  3349.600000     17.000000   \n",
       "           8          14.666667    324.000000  4064.666667     13.222222   \n",
       "77         6          19.500000    220.400000  3383.000000     16.900000   \n",
       "           8          16.000000    335.750000  4177.500000     13.662500   \n",
       "78         6          19.066667    213.250000  3314.166667     16.391667   \n",
       "           8          19.050000    300.833333  3563.333333     13.266667   \n",
       "79         6          22.950000    205.666667  3025.833333     15.433333   \n",
       "           8          18.630000    321.400000  3862.900000     15.400000   \n",
       "80         6          25.900000    196.500000  3145.500000     15.050000   \n",
       "81         6          23.428571    184.000000  3093.571429     15.442857   \n",
       "           8          26.600000    350.000000  3725.000000     19.000000   \n",
       "82         6          28.333333    225.000000  2931.666667     16.033333   \n",
       "\n",
       "                        origin  \n",
       "model_year cylinders            \n",
       "70         6          1.000000  \n",
       "           8          1.000000  \n",
       "71         6          1.000000  \n",
       "           8          1.000000  \n",
       "72         8          1.000000  \n",
       "73         6          1.250000  \n",
       "           8          1.000000  \n",
       "74         6          1.000000  \n",
       "           8          1.000000  \n",
       "75         6          1.000000  \n",
       "           8          1.000000  \n",
       "76         6          1.300000  \n",
       "           8          1.000000  \n",
       "77         6          1.400000  \n",
       "           8          1.000000  \n",
       "78         6          1.166667  \n",
       "           8          1.000000  \n",
       "79         6          1.000000  \n",
       "           8          1.000000  \n",
       "80         6          2.000000  \n",
       "81         6          1.714286  \n",
       "           8          1.000000  \n",
       "82         6          1.000000  "
      ],
      "text/html": "<div>\n<style scoped>\n    .dataframe tbody tr th:only-of-type {\n        vertical-align: middle;\n    }\n\n    .dataframe tbody tr th {\n        vertical-align: top;\n    }\n\n    .dataframe thead th {\n        text-align: right;\n    }\n</style>\n<table border=\"1\" class=\"dataframe\">\n  <thead>\n    <tr style=\"text-align: right;\">\n      <th></th>\n      <th></th>\n      <th>mpg</th>\n      <th>displacement</th>\n      <th>weight</th>\n      <th>acceleration</th>\n      <th>origin</th>\n    </tr>\n    <tr>\n      <th>model_year</th>\n      <th>cylinders</th>\n      <th></th>\n      <th></th>\n      <th></th>\n      <th></th>\n      <th></th>\n    </tr>\n  </thead>\n  <tbody>\n    <tr>\n      <th rowspan=\"2\" valign=\"top\">70</th>\n      <th>6</th>\n      <td>20.500000</td>\n      <td>199.000000</td>\n      <td>2710.500000</td>\n      <td>15.500000</td>\n      <td>1.000000</td>\n    </tr>\n    <tr>\n      <th>8</th>\n      <td>14.111111</td>\n      <td>367.555556</td>\n      <td>3940.055556</td>\n      <td>11.194444</td>\n      <td>1.000000</td>\n    </tr>\n    <tr>\n      <th rowspan=\"2\" valign=\"top\">71</th>\n      <th>6</th>\n      <td>18.000000</td>\n      <td>243.375000</td>\n      <td>3171.875000</td>\n      <td>14.750000</td>\n      <td>1.000000</td>\n    </tr>\n    <tr>\n      <th>8</th>\n      <td>13.428571</td>\n      <td>371.714286</td>\n      <td>4537.714286</td>\n      <td>12.214286</td>\n      <td>1.000000</td>\n    </tr>\n    <tr>\n      <th>72</th>\n      <th>8</th>\n      <td>13.615385</td>\n      <td>344.846154</td>\n      <td>4228.384615</td>\n      <td>13.000000</td>\n      <td>1.000000</td>\n    </tr>\n    <tr>\n      <th rowspan=\"2\" valign=\"top\">73</th>\n      <th>6</th>\n      <td>19.000000</td>\n      <td>212.250000</td>\n      <td>2917.125000</td>\n      <td>15.687500</td>\n      <td>1.250000</td>\n    </tr>\n    <tr>\n      <th>8</th>\n      <td>13.200000</td>\n      <td>365.250000</td>\n      <td>4279.050000</td>\n      <td>12.250000</td>\n      <td>1.000000</td>\n    </tr>\n    <tr>\n      <th rowspan=\"2\" valign=\"top\">74</th>\n      <th>6</th>\n      <td>17.857143</td>\n      <td>230.428571</td>\n      <td>3320.000000</td>\n      <td>16.857143</td>\n      <td>1.000000</td>\n    </tr>\n    <tr>\n      <th>8</th>\n      <td>14.200000</td>\n      <td>315.200000</td>\n      <td>4438.400000</td>\n      <td>14.700000</td>\n      <td>1.000000</td>\n    </tr>\n    <tr>\n      <th rowspan=\"2\" valign=\"top\">75</th>\n      <th>6</th>\n      <td>17.583333</td>\n      <td>233.750000</td>\n      <td>3398.333333</td>\n      <td>17.708333</td>\n      <td>1.000000</td>\n    </tr>\n    <tr>\n      <th>8</th>\n      <td>15.666667</td>\n      <td>330.500000</td>\n      <td>4108.833333</td>\n      <td>13.166667</td>\n      <td>1.000000</td>\n    </tr>\n    <tr>\n      <th rowspan=\"2\" valign=\"top\">76</th>\n      <th>6</th>\n      <td>20.000000</td>\n      <td>221.400000</td>\n      <td>3349.600000</td>\n      <td>17.000000</td>\n      <td>1.300000</td>\n    </tr>\n    <tr>\n      <th>8</th>\n      <td>14.666667</td>\n      <td>324.000000</td>\n      <td>4064.666667</td>\n      <td>13.222222</td>\n      <td>1.000000</td>\n    </tr>\n    <tr>\n      <th rowspan=\"2\" valign=\"top\">77</th>\n      <th>6</th>\n      <td>19.500000</td>\n      <td>220.400000</td>\n      <td>3383.000000</td>\n      <td>16.900000</td>\n      <td>1.400000</td>\n    </tr>\n    <tr>\n      <th>8</th>\n      <td>16.000000</td>\n      <td>335.750000</td>\n      <td>4177.500000</td>\n      <td>13.662500</td>\n      <td>1.000000</td>\n    </tr>\n    <tr>\n      <th rowspan=\"2\" valign=\"top\">78</th>\n      <th>6</th>\n      <td>19.066667</td>\n      <td>213.250000</td>\n      <td>3314.166667</td>\n      <td>16.391667</td>\n      <td>1.166667</td>\n    </tr>\n    <tr>\n      <th>8</th>\n      <td>19.050000</td>\n      <td>300.833333</td>\n      <td>3563.333333</td>\n      <td>13.266667</td>\n      <td>1.000000</td>\n    </tr>\n    <tr>\n      <th rowspan=\"2\" valign=\"top\">79</th>\n      <th>6</th>\n      <td>22.950000</td>\n      <td>205.666667</td>\n      <td>3025.833333</td>\n      <td>15.433333</td>\n      <td>1.000000</td>\n    </tr>\n    <tr>\n      <th>8</th>\n      <td>18.630000</td>\n      <td>321.400000</td>\n      <td>3862.900000</td>\n      <td>15.400000</td>\n      <td>1.000000</td>\n    </tr>\n    <tr>\n      <th>80</th>\n      <th>6</th>\n      <td>25.900000</td>\n      <td>196.500000</td>\n      <td>3145.500000</td>\n      <td>15.050000</td>\n      <td>2.000000</td>\n    </tr>\n    <tr>\n      <th rowspan=\"2\" valign=\"top\">81</th>\n      <th>6</th>\n      <td>23.428571</td>\n      <td>184.000000</td>\n      <td>3093.571429</td>\n      <td>15.442857</td>\n      <td>1.714286</td>\n    </tr>\n    <tr>\n      <th>8</th>\n      <td>26.600000</td>\n      <td>350.000000</td>\n      <td>3725.000000</td>\n      <td>19.000000</td>\n      <td>1.000000</td>\n    </tr>\n    <tr>\n      <th>82</th>\n      <th>6</th>\n      <td>28.333333</td>\n      <td>225.000000</td>\n      <td>2931.666667</td>\n      <td>16.033333</td>\n      <td>1.000000</td>\n    </tr>\n  </tbody>\n</table>\n</div>"
     },
     "metadata": {},
     "execution_count": 11
    }
   ],
   "source": [
    "df[df['cylinders'].isin([6, 8])].groupby(['model_year', 'cylinders']).mean()"
   ]
  },
  {
   "cell_type": "code",
   "execution_count": 12,
   "metadata": {},
   "outputs": [
    {
     "output_type": "execute_result",
     "data": {
      "text/plain": [
       "                            mpg  displacement       weight  acceleration  \\\n",
       "cylinders model_year                                                       \n",
       "4         70          25.285714    107.000000  2292.571429     16.000000   \n",
       "6         70          20.500000    199.000000  2710.500000     15.500000   \n",
       "8         70          14.111111    367.555556  3940.055556     11.194444   \n",
       "4         71          27.461538    101.846154  2056.384615     16.961538   \n",
       "6         71          18.000000    243.375000  3171.875000     14.750000   \n",
       "8         71          13.428571    371.714286  4537.714286     12.214286   \n",
       "3         72          19.000000     70.000000  2330.000000     13.500000   \n",
       "4         72          23.428571    111.535714  2382.642857     17.214286   \n",
       "8         72          13.615385    344.846154  4228.384615     13.000000   \n",
       "3         73          18.000000     70.000000  2124.000000     13.500000   \n",
       "4         73          22.727273    109.272727  2338.090909     17.136364   \n",
       "6         73          19.000000    212.250000  2917.125000     15.687500   \n",
       "8         73          13.200000    365.250000  4279.050000     12.250000   \n",
       "4         74          27.800000     96.533333  2151.466667     16.400000   \n",
       "6         74          17.857143    230.428571  3320.000000     16.857143   \n",
       "8         74          14.200000    315.200000  4438.400000     14.700000   \n",
       "4         75          25.250000    114.833333  2489.250000     15.833333   \n",
       "6         75          17.583333    233.750000  3398.333333     17.708333   \n",
       "8         75          15.666667    330.500000  4108.833333     13.166667   \n",
       "4         76          26.766667    106.333333  2306.600000     16.866667   \n",
       "6         76          20.000000    221.400000  3349.600000     17.000000   \n",
       "8         76          14.666667    324.000000  4064.666667     13.222222   \n",
       "3         77          21.500000     80.000000  2720.000000     13.500000   \n",
       "4         77          29.107143    106.500000  2205.071429     16.064286   \n",
       "6         77          19.500000    220.400000  3383.000000     16.900000   \n",
       "8         77          16.000000    335.750000  4177.500000     13.662500   \n",
       "4         78          29.576471    112.117647  2296.764706     16.282353   \n",
       "5         78          20.300000    131.000000  2830.000000     15.900000   \n",
       "6         78          19.066667    213.250000  3314.166667     16.391667   \n",
       "8         78          19.050000    300.833333  3563.333333     13.266667   \n",
       "4         79          31.525000    113.583333  2357.583333     15.991667   \n",
       "5         79          25.400000    183.000000  3530.000000     20.100000   \n",
       "6         79          22.950000    205.666667  3025.833333     15.433333   \n",
       "8         79          18.630000    321.400000  3862.900000     15.400000   \n",
       "3         80          23.700000     70.000000  2420.000000     12.500000   \n",
       "4         80          34.612000    111.000000  2360.080000     17.144000   \n",
       "5         80          36.400000    121.000000  2950.000000     19.900000   \n",
       "6         80          25.900000    196.500000  3145.500000     15.050000   \n",
       "4         81          32.814286    108.857143  2275.476190     16.466667   \n",
       "6         81          23.428571    184.000000  3093.571429     15.442857   \n",
       "8         81          26.600000    350.000000  3725.000000     19.000000   \n",
       "4         82          32.071429    118.571429  2402.321429     16.703571   \n",
       "6         82          28.333333    225.000000  2931.666667     16.033333   \n",
       "\n",
       "                        origin  \n",
       "cylinders model_year            \n",
       "4         70          2.285714  \n",
       "6         70          1.000000  \n",
       "8         70          1.000000  \n",
       "4         71          1.923077  \n",
       "6         71          1.000000  \n",
       "8         71          1.000000  \n",
       "3         72          3.000000  \n",
       "4         72          1.928571  \n",
       "8         72          1.000000  \n",
       "3         73          3.000000  \n",
       "4         73          2.000000  \n",
       "6         73          1.250000  \n",
       "8         73          1.000000  \n",
       "4         74          2.200000  \n",
       "6         74          1.000000  \n",
       "8         74          1.000000  \n",
       "4         75          2.166667  \n",
       "6         75          1.000000  \n",
       "8         75          1.000000  \n",
       "4         76          1.866667  \n",
       "6         76          1.300000  \n",
       "8         76          1.000000  \n",
       "3         77          3.000000  \n",
       "4         77          1.857143  \n",
       "6         77          1.400000  \n",
       "8         77          1.000000  \n",
       "4         78          2.117647  \n",
       "5         78          2.000000  \n",
       "6         78          1.166667  \n",
       "8         78          1.000000  \n",
       "4         79          1.583333  \n",
       "5         79          2.000000  \n",
       "6         79          1.000000  \n",
       "8         79          1.000000  \n",
       "3         80          3.000000  \n",
       "4         80          2.200000  \n",
       "5         80          2.000000  \n",
       "6         80          2.000000  \n",
       "4         81          2.095238  \n",
       "6         81          1.714286  \n",
       "8         81          1.000000  \n",
       "4         82          1.714286  \n",
       "6         82          1.000000  "
      ],
      "text/html": "<div>\n<style scoped>\n    .dataframe tbody tr th:only-of-type {\n        vertical-align: middle;\n    }\n\n    .dataframe tbody tr th {\n        vertical-align: top;\n    }\n\n    .dataframe thead th {\n        text-align: right;\n    }\n</style>\n<table border=\"1\" class=\"dataframe\">\n  <thead>\n    <tr style=\"text-align: right;\">\n      <th></th>\n      <th></th>\n      <th>mpg</th>\n      <th>displacement</th>\n      <th>weight</th>\n      <th>acceleration</th>\n      <th>origin</th>\n    </tr>\n    <tr>\n      <th>cylinders</th>\n      <th>model_year</th>\n      <th></th>\n      <th></th>\n      <th></th>\n      <th></th>\n      <th></th>\n    </tr>\n  </thead>\n  <tbody>\n    <tr>\n      <th>4</th>\n      <th>70</th>\n      <td>25.285714</td>\n      <td>107.000000</td>\n      <td>2292.571429</td>\n      <td>16.000000</td>\n      <td>2.285714</td>\n    </tr>\n    <tr>\n      <th>6</th>\n      <th>70</th>\n      <td>20.500000</td>\n      <td>199.000000</td>\n      <td>2710.500000</td>\n      <td>15.500000</td>\n      <td>1.000000</td>\n    </tr>\n    <tr>\n      <th>8</th>\n      <th>70</th>\n      <td>14.111111</td>\n      <td>367.555556</td>\n      <td>3940.055556</td>\n      <td>11.194444</td>\n      <td>1.000000</td>\n    </tr>\n    <tr>\n      <th>4</th>\n      <th>71</th>\n      <td>27.461538</td>\n      <td>101.846154</td>\n      <td>2056.384615</td>\n      <td>16.961538</td>\n      <td>1.923077</td>\n    </tr>\n    <tr>\n      <th>6</th>\n      <th>71</th>\n      <td>18.000000</td>\n      <td>243.375000</td>\n      <td>3171.875000</td>\n      <td>14.750000</td>\n      <td>1.000000</td>\n    </tr>\n    <tr>\n      <th>8</th>\n      <th>71</th>\n      <td>13.428571</td>\n      <td>371.714286</td>\n      <td>4537.714286</td>\n      <td>12.214286</td>\n      <td>1.000000</td>\n    </tr>\n    <tr>\n      <th>3</th>\n      <th>72</th>\n      <td>19.000000</td>\n      <td>70.000000</td>\n      <td>2330.000000</td>\n      <td>13.500000</td>\n      <td>3.000000</td>\n    </tr>\n    <tr>\n      <th>4</th>\n      <th>72</th>\n      <td>23.428571</td>\n      <td>111.535714</td>\n      <td>2382.642857</td>\n      <td>17.214286</td>\n      <td>1.928571</td>\n    </tr>\n    <tr>\n      <th>8</th>\n      <th>72</th>\n      <td>13.615385</td>\n      <td>344.846154</td>\n      <td>4228.384615</td>\n      <td>13.000000</td>\n      <td>1.000000</td>\n    </tr>\n    <tr>\n      <th>3</th>\n      <th>73</th>\n      <td>18.000000</td>\n      <td>70.000000</td>\n      <td>2124.000000</td>\n      <td>13.500000</td>\n      <td>3.000000</td>\n    </tr>\n    <tr>\n      <th>4</th>\n      <th>73</th>\n      <td>22.727273</td>\n      <td>109.272727</td>\n      <td>2338.090909</td>\n      <td>17.136364</td>\n      <td>2.000000</td>\n    </tr>\n    <tr>\n      <th>6</th>\n      <th>73</th>\n      <td>19.000000</td>\n      <td>212.250000</td>\n      <td>2917.125000</td>\n      <td>15.687500</td>\n      <td>1.250000</td>\n    </tr>\n    <tr>\n      <th>8</th>\n      <th>73</th>\n      <td>13.200000</td>\n      <td>365.250000</td>\n      <td>4279.050000</td>\n      <td>12.250000</td>\n      <td>1.000000</td>\n    </tr>\n    <tr>\n      <th>4</th>\n      <th>74</th>\n      <td>27.800000</td>\n      <td>96.533333</td>\n      <td>2151.466667</td>\n      <td>16.400000</td>\n      <td>2.200000</td>\n    </tr>\n    <tr>\n      <th>6</th>\n      <th>74</th>\n      <td>17.857143</td>\n      <td>230.428571</td>\n      <td>3320.000000</td>\n      <td>16.857143</td>\n      <td>1.000000</td>\n    </tr>\n    <tr>\n      <th>8</th>\n      <th>74</th>\n      <td>14.200000</td>\n      <td>315.200000</td>\n      <td>4438.400000</td>\n      <td>14.700000</td>\n      <td>1.000000</td>\n    </tr>\n    <tr>\n      <th>4</th>\n      <th>75</th>\n      <td>25.250000</td>\n      <td>114.833333</td>\n      <td>2489.250000</td>\n      <td>15.833333</td>\n      <td>2.166667</td>\n    </tr>\n    <tr>\n      <th>6</th>\n      <th>75</th>\n      <td>17.583333</td>\n      <td>233.750000</td>\n      <td>3398.333333</td>\n      <td>17.708333</td>\n      <td>1.000000</td>\n    </tr>\n    <tr>\n      <th>8</th>\n      <th>75</th>\n      <td>15.666667</td>\n      <td>330.500000</td>\n      <td>4108.833333</td>\n      <td>13.166667</td>\n      <td>1.000000</td>\n    </tr>\n    <tr>\n      <th>4</th>\n      <th>76</th>\n      <td>26.766667</td>\n      <td>106.333333</td>\n      <td>2306.600000</td>\n      <td>16.866667</td>\n      <td>1.866667</td>\n    </tr>\n    <tr>\n      <th>6</th>\n      <th>76</th>\n      <td>20.000000</td>\n      <td>221.400000</td>\n      <td>3349.600000</td>\n      <td>17.000000</td>\n      <td>1.300000</td>\n    </tr>\n    <tr>\n      <th>8</th>\n      <th>76</th>\n      <td>14.666667</td>\n      <td>324.000000</td>\n      <td>4064.666667</td>\n      <td>13.222222</td>\n      <td>1.000000</td>\n    </tr>\n    <tr>\n      <th>3</th>\n      <th>77</th>\n      <td>21.500000</td>\n      <td>80.000000</td>\n      <td>2720.000000</td>\n      <td>13.500000</td>\n      <td>3.000000</td>\n    </tr>\n    <tr>\n      <th>4</th>\n      <th>77</th>\n      <td>29.107143</td>\n      <td>106.500000</td>\n      <td>2205.071429</td>\n      <td>16.064286</td>\n      <td>1.857143</td>\n    </tr>\n    <tr>\n      <th>6</th>\n      <th>77</th>\n      <td>19.500000</td>\n      <td>220.400000</td>\n      <td>3383.000000</td>\n      <td>16.900000</td>\n      <td>1.400000</td>\n    </tr>\n    <tr>\n      <th>8</th>\n      <th>77</th>\n      <td>16.000000</td>\n      <td>335.750000</td>\n      <td>4177.500000</td>\n      <td>13.662500</td>\n      <td>1.000000</td>\n    </tr>\n    <tr>\n      <th>4</th>\n      <th>78</th>\n      <td>29.576471</td>\n      <td>112.117647</td>\n      <td>2296.764706</td>\n      <td>16.282353</td>\n      <td>2.117647</td>\n    </tr>\n    <tr>\n      <th>5</th>\n      <th>78</th>\n      <td>20.300000</td>\n      <td>131.000000</td>\n      <td>2830.000000</td>\n      <td>15.900000</td>\n      <td>2.000000</td>\n    </tr>\n    <tr>\n      <th>6</th>\n      <th>78</th>\n      <td>19.066667</td>\n      <td>213.250000</td>\n      <td>3314.166667</td>\n      <td>16.391667</td>\n      <td>1.166667</td>\n    </tr>\n    <tr>\n      <th>8</th>\n      <th>78</th>\n      <td>19.050000</td>\n      <td>300.833333</td>\n      <td>3563.333333</td>\n      <td>13.266667</td>\n      <td>1.000000</td>\n    </tr>\n    <tr>\n      <th>4</th>\n      <th>79</th>\n      <td>31.525000</td>\n      <td>113.583333</td>\n      <td>2357.583333</td>\n      <td>15.991667</td>\n      <td>1.583333</td>\n    </tr>\n    <tr>\n      <th>5</th>\n      <th>79</th>\n      <td>25.400000</td>\n      <td>183.000000</td>\n      <td>3530.000000</td>\n      <td>20.100000</td>\n      <td>2.000000</td>\n    </tr>\n    <tr>\n      <th>6</th>\n      <th>79</th>\n      <td>22.950000</td>\n      <td>205.666667</td>\n      <td>3025.833333</td>\n      <td>15.433333</td>\n      <td>1.000000</td>\n    </tr>\n    <tr>\n      <th>8</th>\n      <th>79</th>\n      <td>18.630000</td>\n      <td>321.400000</td>\n      <td>3862.900000</td>\n      <td>15.400000</td>\n      <td>1.000000</td>\n    </tr>\n    <tr>\n      <th>3</th>\n      <th>80</th>\n      <td>23.700000</td>\n      <td>70.000000</td>\n      <td>2420.000000</td>\n      <td>12.500000</td>\n      <td>3.000000</td>\n    </tr>\n    <tr>\n      <th>4</th>\n      <th>80</th>\n      <td>34.612000</td>\n      <td>111.000000</td>\n      <td>2360.080000</td>\n      <td>17.144000</td>\n      <td>2.200000</td>\n    </tr>\n    <tr>\n      <th>5</th>\n      <th>80</th>\n      <td>36.400000</td>\n      <td>121.000000</td>\n      <td>2950.000000</td>\n      <td>19.900000</td>\n      <td>2.000000</td>\n    </tr>\n    <tr>\n      <th>6</th>\n      <th>80</th>\n      <td>25.900000</td>\n      <td>196.500000</td>\n      <td>3145.500000</td>\n      <td>15.050000</td>\n      <td>2.000000</td>\n    </tr>\n    <tr>\n      <th>4</th>\n      <th>81</th>\n      <td>32.814286</td>\n      <td>108.857143</td>\n      <td>2275.476190</td>\n      <td>16.466667</td>\n      <td>2.095238</td>\n    </tr>\n    <tr>\n      <th>6</th>\n      <th>81</th>\n      <td>23.428571</td>\n      <td>184.000000</td>\n      <td>3093.571429</td>\n      <td>15.442857</td>\n      <td>1.714286</td>\n    </tr>\n    <tr>\n      <th>8</th>\n      <th>81</th>\n      <td>26.600000</td>\n      <td>350.000000</td>\n      <td>3725.000000</td>\n      <td>19.000000</td>\n      <td>1.000000</td>\n    </tr>\n    <tr>\n      <th>4</th>\n      <th>82</th>\n      <td>32.071429</td>\n      <td>118.571429</td>\n      <td>2402.321429</td>\n      <td>16.703571</td>\n      <td>1.714286</td>\n    </tr>\n    <tr>\n      <th>6</th>\n      <th>82</th>\n      <td>28.333333</td>\n      <td>225.000000</td>\n      <td>2931.666667</td>\n      <td>16.033333</td>\n      <td>1.000000</td>\n    </tr>\n  </tbody>\n</table>\n</div>"
     },
     "metadata": {},
     "execution_count": 12
    }
   ],
   "source": [
    "year_cyl.swaplevel()"
   ]
  },
  {
   "cell_type": "code",
   "execution_count": 14,
   "metadata": {},
   "outputs": [
    {
     "output_type": "execute_result",
     "data": {
      "text/plain": [
       "                            mpg  displacement       weight  acceleration  \\\n",
       "model_year cylinders                                                       \n",
       "82         6          28.333333    225.000000  2931.666667     16.033333   \n",
       "           4          32.071429    118.571429  2402.321429     16.703571   \n",
       "81         8          26.600000    350.000000  3725.000000     19.000000   \n",
       "           6          23.428571    184.000000  3093.571429     15.442857   \n",
       "           4          32.814286    108.857143  2275.476190     16.466667   \n",
       "80         6          25.900000    196.500000  3145.500000     15.050000   \n",
       "           5          36.400000    121.000000  2950.000000     19.900000   \n",
       "           4          34.612000    111.000000  2360.080000     17.144000   \n",
       "           3          23.700000     70.000000  2420.000000     12.500000   \n",
       "79         8          18.630000    321.400000  3862.900000     15.400000   \n",
       "           6          22.950000    205.666667  3025.833333     15.433333   \n",
       "           5          25.400000    183.000000  3530.000000     20.100000   \n",
       "           4          31.525000    113.583333  2357.583333     15.991667   \n",
       "78         8          19.050000    300.833333  3563.333333     13.266667   \n",
       "           6          19.066667    213.250000  3314.166667     16.391667   \n",
       "           5          20.300000    131.000000  2830.000000     15.900000   \n",
       "           4          29.576471    112.117647  2296.764706     16.282353   \n",
       "77         8          16.000000    335.750000  4177.500000     13.662500   \n",
       "           6          19.500000    220.400000  3383.000000     16.900000   \n",
       "           4          29.107143    106.500000  2205.071429     16.064286   \n",
       "           3          21.500000     80.000000  2720.000000     13.500000   \n",
       "76         8          14.666667    324.000000  4064.666667     13.222222   \n",
       "           6          20.000000    221.400000  3349.600000     17.000000   \n",
       "           4          26.766667    106.333333  2306.600000     16.866667   \n",
       "75         8          15.666667    330.500000  4108.833333     13.166667   \n",
       "           6          17.583333    233.750000  3398.333333     17.708333   \n",
       "           4          25.250000    114.833333  2489.250000     15.833333   \n",
       "74         8          14.200000    315.200000  4438.400000     14.700000   \n",
       "           6          17.857143    230.428571  3320.000000     16.857143   \n",
       "           4          27.800000     96.533333  2151.466667     16.400000   \n",
       "73         8          13.200000    365.250000  4279.050000     12.250000   \n",
       "           6          19.000000    212.250000  2917.125000     15.687500   \n",
       "           4          22.727273    109.272727  2338.090909     17.136364   \n",
       "           3          18.000000     70.000000  2124.000000     13.500000   \n",
       "72         8          13.615385    344.846154  4228.384615     13.000000   \n",
       "           4          23.428571    111.535714  2382.642857     17.214286   \n",
       "           3          19.000000     70.000000  2330.000000     13.500000   \n",
       "71         8          13.428571    371.714286  4537.714286     12.214286   \n",
       "           6          18.000000    243.375000  3171.875000     14.750000   \n",
       "           4          27.461538    101.846154  2056.384615     16.961538   \n",
       "70         8          14.111111    367.555556  3940.055556     11.194444   \n",
       "           6          20.500000    199.000000  2710.500000     15.500000   \n",
       "           4          25.285714    107.000000  2292.571429     16.000000   \n",
       "\n",
       "                        origin  \n",
       "model_year cylinders            \n",
       "82         6          1.000000  \n",
       "           4          1.714286  \n",
       "81         8          1.000000  \n",
       "           6          1.714286  \n",
       "           4          2.095238  \n",
       "80         6          2.000000  \n",
       "           5          2.000000  \n",
       "           4          2.200000  \n",
       "           3          3.000000  \n",
       "79         8          1.000000  \n",
       "           6          1.000000  \n",
       "           5          2.000000  \n",
       "           4          1.583333  \n",
       "78         8          1.000000  \n",
       "           6          1.166667  \n",
       "           5          2.000000  \n",
       "           4          2.117647  \n",
       "77         8          1.000000  \n",
       "           6          1.400000  \n",
       "           4          1.857143  \n",
       "           3          3.000000  \n",
       "76         8          1.000000  \n",
       "           6          1.300000  \n",
       "           4          1.866667  \n",
       "75         8          1.000000  \n",
       "           6          1.000000  \n",
       "           4          2.166667  \n",
       "74         8          1.000000  \n",
       "           6          1.000000  \n",
       "           4          2.200000  \n",
       "73         8          1.000000  \n",
       "           6          1.250000  \n",
       "           4          2.000000  \n",
       "           3          3.000000  \n",
       "72         8          1.000000  \n",
       "           4          1.928571  \n",
       "           3          3.000000  \n",
       "71         8          1.000000  \n",
       "           6          1.000000  \n",
       "           4          1.923077  \n",
       "70         8          1.000000  \n",
       "           6          1.000000  \n",
       "           4          2.285714  "
      ],
      "text/html": "<div>\n<style scoped>\n    .dataframe tbody tr th:only-of-type {\n        vertical-align: middle;\n    }\n\n    .dataframe tbody tr th {\n        vertical-align: top;\n    }\n\n    .dataframe thead th {\n        text-align: right;\n    }\n</style>\n<table border=\"1\" class=\"dataframe\">\n  <thead>\n    <tr style=\"text-align: right;\">\n      <th></th>\n      <th></th>\n      <th>mpg</th>\n      <th>displacement</th>\n      <th>weight</th>\n      <th>acceleration</th>\n      <th>origin</th>\n    </tr>\n    <tr>\n      <th>model_year</th>\n      <th>cylinders</th>\n      <th></th>\n      <th></th>\n      <th></th>\n      <th></th>\n      <th></th>\n    </tr>\n  </thead>\n  <tbody>\n    <tr>\n      <th rowspan=\"2\" valign=\"top\">82</th>\n      <th>6</th>\n      <td>28.333333</td>\n      <td>225.000000</td>\n      <td>2931.666667</td>\n      <td>16.033333</td>\n      <td>1.000000</td>\n    </tr>\n    <tr>\n      <th>4</th>\n      <td>32.071429</td>\n      <td>118.571429</td>\n      <td>2402.321429</td>\n      <td>16.703571</td>\n      <td>1.714286</td>\n    </tr>\n    <tr>\n      <th rowspan=\"3\" valign=\"top\">81</th>\n      <th>8</th>\n      <td>26.600000</td>\n      <td>350.000000</td>\n      <td>3725.000000</td>\n      <td>19.000000</td>\n      <td>1.000000</td>\n    </tr>\n    <tr>\n      <th>6</th>\n      <td>23.428571</td>\n      <td>184.000000</td>\n      <td>3093.571429</td>\n      <td>15.442857</td>\n      <td>1.714286</td>\n    </tr>\n    <tr>\n      <th>4</th>\n      <td>32.814286</td>\n      <td>108.857143</td>\n      <td>2275.476190</td>\n      <td>16.466667</td>\n      <td>2.095238</td>\n    </tr>\n    <tr>\n      <th rowspan=\"4\" valign=\"top\">80</th>\n      <th>6</th>\n      <td>25.900000</td>\n      <td>196.500000</td>\n      <td>3145.500000</td>\n      <td>15.050000</td>\n      <td>2.000000</td>\n    </tr>\n    <tr>\n      <th>5</th>\n      <td>36.400000</td>\n      <td>121.000000</td>\n      <td>2950.000000</td>\n      <td>19.900000</td>\n      <td>2.000000</td>\n    </tr>\n    <tr>\n      <th>4</th>\n      <td>34.612000</td>\n      <td>111.000000</td>\n      <td>2360.080000</td>\n      <td>17.144000</td>\n      <td>2.200000</td>\n    </tr>\n    <tr>\n      <th>3</th>\n      <td>23.700000</td>\n      <td>70.000000</td>\n      <td>2420.000000</td>\n      <td>12.500000</td>\n      <td>3.000000</td>\n    </tr>\n    <tr>\n      <th rowspan=\"4\" valign=\"top\">79</th>\n      <th>8</th>\n      <td>18.630000</td>\n      <td>321.400000</td>\n      <td>3862.900000</td>\n      <td>15.400000</td>\n      <td>1.000000</td>\n    </tr>\n    <tr>\n      <th>6</th>\n      <td>22.950000</td>\n      <td>205.666667</td>\n      <td>3025.833333</td>\n      <td>15.433333</td>\n      <td>1.000000</td>\n    </tr>\n    <tr>\n      <th>5</th>\n      <td>25.400000</td>\n      <td>183.000000</td>\n      <td>3530.000000</td>\n      <td>20.100000</td>\n      <td>2.000000</td>\n    </tr>\n    <tr>\n      <th>4</th>\n      <td>31.525000</td>\n      <td>113.583333</td>\n      <td>2357.583333</td>\n      <td>15.991667</td>\n      <td>1.583333</td>\n    </tr>\n    <tr>\n      <th rowspan=\"4\" valign=\"top\">78</th>\n      <th>8</th>\n      <td>19.050000</td>\n      <td>300.833333</td>\n      <td>3563.333333</td>\n      <td>13.266667</td>\n      <td>1.000000</td>\n    </tr>\n    <tr>\n      <th>6</th>\n      <td>19.066667</td>\n      <td>213.250000</td>\n      <td>3314.166667</td>\n      <td>16.391667</td>\n      <td>1.166667</td>\n    </tr>\n    <tr>\n      <th>5</th>\n      <td>20.300000</td>\n      <td>131.000000</td>\n      <td>2830.000000</td>\n      <td>15.900000</td>\n      <td>2.000000</td>\n    </tr>\n    <tr>\n      <th>4</th>\n      <td>29.576471</td>\n      <td>112.117647</td>\n      <td>2296.764706</td>\n      <td>16.282353</td>\n      <td>2.117647</td>\n    </tr>\n    <tr>\n      <th rowspan=\"4\" valign=\"top\">77</th>\n      <th>8</th>\n      <td>16.000000</td>\n      <td>335.750000</td>\n      <td>4177.500000</td>\n      <td>13.662500</td>\n      <td>1.000000</td>\n    </tr>\n    <tr>\n      <th>6</th>\n      <td>19.500000</td>\n      <td>220.400000</td>\n      <td>3383.000000</td>\n      <td>16.900000</td>\n      <td>1.400000</td>\n    </tr>\n    <tr>\n      <th>4</th>\n      <td>29.107143</td>\n      <td>106.500000</td>\n      <td>2205.071429</td>\n      <td>16.064286</td>\n      <td>1.857143</td>\n    </tr>\n    <tr>\n      <th>3</th>\n      <td>21.500000</td>\n      <td>80.000000</td>\n      <td>2720.000000</td>\n      <td>13.500000</td>\n      <td>3.000000</td>\n    </tr>\n    <tr>\n      <th rowspan=\"3\" valign=\"top\">76</th>\n      <th>8</th>\n      <td>14.666667</td>\n      <td>324.000000</td>\n      <td>4064.666667</td>\n      <td>13.222222</td>\n      <td>1.000000</td>\n    </tr>\n    <tr>\n      <th>6</th>\n      <td>20.000000</td>\n      <td>221.400000</td>\n      <td>3349.600000</td>\n      <td>17.000000</td>\n      <td>1.300000</td>\n    </tr>\n    <tr>\n      <th>4</th>\n      <td>26.766667</td>\n      <td>106.333333</td>\n      <td>2306.600000</td>\n      <td>16.866667</td>\n      <td>1.866667</td>\n    </tr>\n    <tr>\n      <th rowspan=\"3\" valign=\"top\">75</th>\n      <th>8</th>\n      <td>15.666667</td>\n      <td>330.500000</td>\n      <td>4108.833333</td>\n      <td>13.166667</td>\n      <td>1.000000</td>\n    </tr>\n    <tr>\n      <th>6</th>\n      <td>17.583333</td>\n      <td>233.750000</td>\n      <td>3398.333333</td>\n      <td>17.708333</td>\n      <td>1.000000</td>\n    </tr>\n    <tr>\n      <th>4</th>\n      <td>25.250000</td>\n      <td>114.833333</td>\n      <td>2489.250000</td>\n      <td>15.833333</td>\n      <td>2.166667</td>\n    </tr>\n    <tr>\n      <th rowspan=\"3\" valign=\"top\">74</th>\n      <th>8</th>\n      <td>14.200000</td>\n      <td>315.200000</td>\n      <td>4438.400000</td>\n      <td>14.700000</td>\n      <td>1.000000</td>\n    </tr>\n    <tr>\n      <th>6</th>\n      <td>17.857143</td>\n      <td>230.428571</td>\n      <td>3320.000000</td>\n      <td>16.857143</td>\n      <td>1.000000</td>\n    </tr>\n    <tr>\n      <th>4</th>\n      <td>27.800000</td>\n      <td>96.533333</td>\n      <td>2151.466667</td>\n      <td>16.400000</td>\n      <td>2.200000</td>\n    </tr>\n    <tr>\n      <th rowspan=\"4\" valign=\"top\">73</th>\n      <th>8</th>\n      <td>13.200000</td>\n      <td>365.250000</td>\n      <td>4279.050000</td>\n      <td>12.250000</td>\n      <td>1.000000</td>\n    </tr>\n    <tr>\n      <th>6</th>\n      <td>19.000000</td>\n      <td>212.250000</td>\n      <td>2917.125000</td>\n      <td>15.687500</td>\n      <td>1.250000</td>\n    </tr>\n    <tr>\n      <th>4</th>\n      <td>22.727273</td>\n      <td>109.272727</td>\n      <td>2338.090909</td>\n      <td>17.136364</td>\n      <td>2.000000</td>\n    </tr>\n    <tr>\n      <th>3</th>\n      <td>18.000000</td>\n      <td>70.000000</td>\n      <td>2124.000000</td>\n      <td>13.500000</td>\n      <td>3.000000</td>\n    </tr>\n    <tr>\n      <th rowspan=\"3\" valign=\"top\">72</th>\n      <th>8</th>\n      <td>13.615385</td>\n      <td>344.846154</td>\n      <td>4228.384615</td>\n      <td>13.000000</td>\n      <td>1.000000</td>\n    </tr>\n    <tr>\n      <th>4</th>\n      <td>23.428571</td>\n      <td>111.535714</td>\n      <td>2382.642857</td>\n      <td>17.214286</td>\n      <td>1.928571</td>\n    </tr>\n    <tr>\n      <th>3</th>\n      <td>19.000000</td>\n      <td>70.000000</td>\n      <td>2330.000000</td>\n      <td>13.500000</td>\n      <td>3.000000</td>\n    </tr>\n    <tr>\n      <th rowspan=\"3\" valign=\"top\">71</th>\n      <th>8</th>\n      <td>13.428571</td>\n      <td>371.714286</td>\n      <td>4537.714286</td>\n      <td>12.214286</td>\n      <td>1.000000</td>\n    </tr>\n    <tr>\n      <th>6</th>\n      <td>18.000000</td>\n      <td>243.375000</td>\n      <td>3171.875000</td>\n      <td>14.750000</td>\n      <td>1.000000</td>\n    </tr>\n    <tr>\n      <th>4</th>\n      <td>27.461538</td>\n      <td>101.846154</td>\n      <td>2056.384615</td>\n      <td>16.961538</td>\n      <td>1.923077</td>\n    </tr>\n    <tr>\n      <th rowspan=\"3\" valign=\"top\">70</th>\n      <th>8</th>\n      <td>14.111111</td>\n      <td>367.555556</td>\n      <td>3940.055556</td>\n      <td>11.194444</td>\n      <td>1.000000</td>\n    </tr>\n    <tr>\n      <th>6</th>\n      <td>20.500000</td>\n      <td>199.000000</td>\n      <td>2710.500000</td>\n      <td>15.500000</td>\n      <td>1.000000</td>\n    </tr>\n    <tr>\n      <th>4</th>\n      <td>25.285714</td>\n      <td>107.000000</td>\n      <td>2292.571429</td>\n      <td>16.000000</td>\n      <td>2.285714</td>\n    </tr>\n  </tbody>\n</table>\n</div>"
     },
     "metadata": {},
     "execution_count": 14
    }
   ],
   "source": [
    "year_cyl.sort_index(level='model_year', ascending=False)"
   ]
  },
  {
   "cell_type": "code",
   "execution_count": 15,
   "metadata": {},
   "outputs": [
    {
     "output_type": "execute_result",
     "data": {
      "text/plain": [
       "      mpg  cylinders  displacement horsepower  weight  acceleration  \\\n",
       "0    18.0          8         307.0        130    3504          12.0   \n",
       "1    15.0          8         350.0        165    3693          11.5   \n",
       "2    18.0          8         318.0        150    3436          11.0   \n",
       "3    16.0          8         304.0        150    3433          12.0   \n",
       "4    17.0          8         302.0        140    3449          10.5   \n",
       "..    ...        ...           ...        ...     ...           ...   \n",
       "393  27.0          4         140.0         86    2790          15.6   \n",
       "394  44.0          4          97.0         52    2130          24.6   \n",
       "395  32.0          4         135.0         84    2295          11.6   \n",
       "396  28.0          4         120.0         79    2625          18.6   \n",
       "397  31.0          4         119.0         82    2720          19.4   \n",
       "\n",
       "     model_year  origin                       name  \n",
       "0            70       1  chevrolet chevelle malibu  \n",
       "1            70       1          buick skylark 320  \n",
       "2            70       1         plymouth satellite  \n",
       "3            70       1              amc rebel sst  \n",
       "4            70       1                ford torino  \n",
       "..          ...     ...                        ...  \n",
       "393          82       1            ford mustang gl  \n",
       "394          82       2                  vw pickup  \n",
       "395          82       1              dodge rampage  \n",
       "396          82       1                ford ranger  \n",
       "397          82       1                 chevy s-10  \n",
       "\n",
       "[398 rows x 9 columns]"
      ],
      "text/html": "<div>\n<style scoped>\n    .dataframe tbody tr th:only-of-type {\n        vertical-align: middle;\n    }\n\n    .dataframe tbody tr th {\n        vertical-align: top;\n    }\n\n    .dataframe thead th {\n        text-align: right;\n    }\n</style>\n<table border=\"1\" class=\"dataframe\">\n  <thead>\n    <tr style=\"text-align: right;\">\n      <th></th>\n      <th>mpg</th>\n      <th>cylinders</th>\n      <th>displacement</th>\n      <th>horsepower</th>\n      <th>weight</th>\n      <th>acceleration</th>\n      <th>model_year</th>\n      <th>origin</th>\n      <th>name</th>\n    </tr>\n  </thead>\n  <tbody>\n    <tr>\n      <th>0</th>\n      <td>18.0</td>\n      <td>8</td>\n      <td>307.0</td>\n      <td>130</td>\n      <td>3504</td>\n      <td>12.0</td>\n      <td>70</td>\n      <td>1</td>\n      <td>chevrolet chevelle malibu</td>\n    </tr>\n    <tr>\n      <th>1</th>\n      <td>15.0</td>\n      <td>8</td>\n      <td>350.0</td>\n      <td>165</td>\n      <td>3693</td>\n      <td>11.5</td>\n      <td>70</td>\n      <td>1</td>\n      <td>buick skylark 320</td>\n    </tr>\n    <tr>\n      <th>2</th>\n      <td>18.0</td>\n      <td>8</td>\n      <td>318.0</td>\n      <td>150</td>\n      <td>3436</td>\n      <td>11.0</td>\n      <td>70</td>\n      <td>1</td>\n      <td>plymouth satellite</td>\n    </tr>\n    <tr>\n      <th>3</th>\n      <td>16.0</td>\n      <td>8</td>\n      <td>304.0</td>\n      <td>150</td>\n      <td>3433</td>\n      <td>12.0</td>\n      <td>70</td>\n      <td>1</td>\n      <td>amc rebel sst</td>\n    </tr>\n    <tr>\n      <th>4</th>\n      <td>17.0</td>\n      <td>8</td>\n      <td>302.0</td>\n      <td>140</td>\n      <td>3449</td>\n      <td>10.5</td>\n      <td>70</td>\n      <td>1</td>\n      <td>ford torino</td>\n    </tr>\n    <tr>\n      <th>...</th>\n      <td>...</td>\n      <td>...</td>\n      <td>...</td>\n      <td>...</td>\n      <td>...</td>\n      <td>...</td>\n      <td>...</td>\n      <td>...</td>\n      <td>...</td>\n    </tr>\n    <tr>\n      <th>393</th>\n      <td>27.0</td>\n      <td>4</td>\n      <td>140.0</td>\n      <td>86</td>\n      <td>2790</td>\n      <td>15.6</td>\n      <td>82</td>\n      <td>1</td>\n      <td>ford mustang gl</td>\n    </tr>\n    <tr>\n      <th>394</th>\n      <td>44.0</td>\n      <td>4</td>\n      <td>97.0</td>\n      <td>52</td>\n      <td>2130</td>\n      <td>24.6</td>\n      <td>82</td>\n      <td>2</td>\n      <td>vw pickup</td>\n    </tr>\n    <tr>\n      <th>395</th>\n      <td>32.0</td>\n      <td>4</td>\n      <td>135.0</td>\n      <td>84</td>\n      <td>2295</td>\n      <td>11.6</td>\n      <td>82</td>\n      <td>1</td>\n      <td>dodge rampage</td>\n    </tr>\n    <tr>\n      <th>396</th>\n      <td>28.0</td>\n      <td>4</td>\n      <td>120.0</td>\n      <td>79</td>\n      <td>2625</td>\n      <td>18.6</td>\n      <td>82</td>\n      <td>1</td>\n      <td>ford ranger</td>\n    </tr>\n    <tr>\n      <th>397</th>\n      <td>31.0</td>\n      <td>4</td>\n      <td>119.0</td>\n      <td>82</td>\n      <td>2720</td>\n      <td>19.4</td>\n      <td>82</td>\n      <td>1</td>\n      <td>chevy s-10</td>\n    </tr>\n  </tbody>\n</table>\n<p>398 rows × 9 columns</p>\n</div>"
     },
     "metadata": {},
     "execution_count": 15
    }
   ],
   "source": [
    "df"
   ]
  },
  {
   "cell_type": "code",
   "execution_count": 17,
   "metadata": {},
   "outputs": [
    {
     "output_type": "execute_result",
     "data": {
      "text/plain": [
       "std      7.815984\n",
       "mean    23.514573\n",
       "Name: mpg, dtype: float64"
      ]
     },
     "metadata": {},
     "execution_count": 17
    }
   ],
   "source": [
    "df.agg(['std', 'mean'])['mpg']"
   ]
  },
  {
   "cell_type": "code",
   "execution_count": 18,
   "metadata": {},
   "outputs": [
    {
     "output_type": "execute_result",
     "data": {
      "text/plain": [
       "            mpg       weight\n",
       "max   46.600000          NaN\n",
       "mean  23.514573  2970.424623\n",
       "std         NaN   846.841774"
      ],
      "text/html": "<div>\n<style scoped>\n    .dataframe tbody tr th:only-of-type {\n        vertical-align: middle;\n    }\n\n    .dataframe tbody tr th {\n        vertical-align: top;\n    }\n\n    .dataframe thead th {\n        text-align: right;\n    }\n</style>\n<table border=\"1\" class=\"dataframe\">\n  <thead>\n    <tr style=\"text-align: right;\">\n      <th></th>\n      <th>mpg</th>\n      <th>weight</th>\n    </tr>\n  </thead>\n  <tbody>\n    <tr>\n      <th>max</th>\n      <td>46.600000</td>\n      <td>NaN</td>\n    </tr>\n    <tr>\n      <th>mean</th>\n      <td>23.514573</td>\n      <td>2970.424623</td>\n    </tr>\n    <tr>\n      <th>std</th>\n      <td>NaN</td>\n      <td>846.841774</td>\n    </tr>\n  </tbody>\n</table>\n</div>"
     },
     "metadata": {},
     "execution_count": 18
    }
   ],
   "source": [
    "df.agg({'mpg': ['max', 'mean'], 'weight': ['mean', 'std']})"
   ]
  },
  {
   "cell_type": "code",
   "execution_count": null,
   "metadata": {},
   "outputs": [],
   "source": []
  }
 ]
}