{
 "metadata": {
  "language_info": {
   "codemirror_mode": {
    "name": "ipython",
    "version": 3
   },
   "file_extension": ".py",
   "mimetype": "text/x-python",
   "name": "python",
   "nbconvert_exporter": "python",
   "pygments_lexer": "ipython3",
   "version": "3.9.5"
  },
  "orig_nbformat": 4,
  "kernelspec": {
   "name": "python3",
   "display_name": "Python 3.9.5 64-bit (windows store)"
  },
  "interpreter": {
   "hash": "3d63908e3980ac177829f34ca6b4122ea4edd056e44316b5e6694f7b721255f3"
  }
 },
 "nbformat": 4,
 "nbformat_minor": 2,
 "cells": [
  {
   "cell_type": "code",
   "execution_count": 1,
   "metadata": {},
   "outputs": [],
   "source": [
    "import numpy as np"
   ]
  },
  {
   "cell_type": "code",
   "execution_count": 2,
   "metadata": {},
   "outputs": [],
   "source": [
    "import pandas as pd"
   ]
  },
  {
   "cell_type": "code",
   "execution_count": 3,
   "metadata": {},
   "outputs": [
    {
     "output_type": "execute_result",
     "data": {
      "text/plain": [
       "'e:\\\\PythonML\\\\Pandas'"
      ]
     },
     "metadata": {},
     "execution_count": 3
    }
   ],
   "source": [
    "pwd"
   ]
  },
  {
   "cell_type": "code",
   "execution_count": 4,
   "metadata": {},
   "outputs": [
    {
     "output_type": "stream",
     "name": "stdout",
     "text": [
      " O volume na unidade E � Novo volume\n O N�mero de S�rie do Volume � 062D-A168\n\n Pasta de e:\\PythonML\\Pandas\n\n08/07/2021  18:41    <DIR>          .\n08/07/2021  18:41    <DIR>          ..\n06/07/2021  18:46                51 example.csv\n06/07/2021  18:46             5.022 example.xlsx\n06/07/2021  18:46        25.112.317 hotel_booking_data.csv\n06/07/2021  18:46               177 movie_scores.csv\n06/07/2021  18:46            17.727 mpg.csv\n06/07/2021  18:46             5.022 my_excel_file.xlsx\n06/07/2021  18:46                51 new_file.csv\n06/07/2021  18:46             5.021 new_workbook.xlsx\n06/07/2021  18:46                51 newfile.csv\n08/07/2021  13:42            11.112 Pandas_CombiningDataframes.ipynb\n08/07/2021  16:30             6.046 Pandas_CombiningDataFrames_InnerMerge.ipynb\n08/07/2021  16:36             4.102 Pandas_CombiningDataFrames_LeftRightMerge.ipynb\n08/07/2021  18:25            16.120 Pandas_CombiningDataFrames_OuterMerge.ipynb\n06/07/2021  20:55            67.052 Pandas_ConditionalFiltering.ipynb\n08/07/2021  18:41                 0 Pandas_CSV_InputOutput.ipynb\n06/07/2021  19:06             5.657 Pandas_DataFrames_P1.ipynb\n06/07/2021  19:06            19.061 Pandas_DataFrames_P2.ipynb\n06/07/2021  20:19            38.506 Pandas_DataFrames_P3.ipynb\n06/07/2021  20:36            37.688 Pandas_DataFrames_P4.ipynb\n08/07/2021  13:08            47.944 Pandas_GroupBy_P1.ipynb\n08/07/2021  13:27            59.241 Pandas_GroupBy_P2.ipynb\n07/07/2021  19:33            28.210 Pandas_MissingData_Pandas_Operations.ipynb\n06/07/2021  18:03             2.636 Pandas_Series_P1.ipynb\n06/07/2021  18:37             6.099 Pandas_Series_P2.ipynb\n08/07/2021  17:08             7.621 Pandas_TextMethods.ipynb\n08/07/2021  17:39            17.796 Pandas_TimeMethods.ipynb\n07/07/2021  17:44            14.139 Pandas_UsefulMethods_MultipleColumn.ipynb\n07/07/2021  17:27            23.912 Pandas_UsefulMethods_SingleColumn.ipynb\n07/07/2021  18:09            69.206 Pandas_UsefulMethods_StatisticalInformationAndSorting.ipynb\n06/07/2021  18:46             5.459 RetailSales_BeerWineLiquor.csv\n06/07/2021  18:46             1.320 Sales_Funnel_CRM.csv\n06/07/2021  18:46             1.330 sample_table.html\n06/07/2021  18:46               555 simple.html\n08/07/2021  18:38                 0 test.txt\n06/07/2021  18:46            18.752 tips.csv\n              35 arquivo(s)     25.655.003 bytes\n               2 pasta(s)   743.617.454.080 bytes dispon�veis\n"
     ]
    }
   ],
   "source": [
    "ls"
   ]
  },
  {
   "cell_type": "code",
   "execution_count": 5,
   "metadata": {},
   "outputs": [],
   "source": [
    "import os "
   ]
  },
  {
   "cell_type": "code",
   "execution_count": 6,
   "metadata": {},
   "outputs": [
    {
     "output_type": "execute_result",
     "data": {
      "text/plain": [
       "'e:\\\\PythonML\\\\Pandas'"
      ]
     },
     "metadata": {},
     "execution_count": 6
    }
   ],
   "source": [
    "os.getcwd()"
   ]
  },
  {
   "cell_type": "code",
   "execution_count": 7,
   "metadata": {},
   "outputs": [],
   "source": [
    "df = pd.read_csv('example.csv')"
   ]
  },
  {
   "cell_type": "code",
   "execution_count": 8,
   "metadata": {},
   "outputs": [
    {
     "output_type": "execute_result",
     "data": {
      "text/plain": [
       "    a   b   c   d\n",
       "0   0   1   2   3\n",
       "1   4   5   6   7\n",
       "2   8   9  10  11\n",
       "3  12  13  14  15"
      ],
      "text/html": "<div>\n<style scoped>\n    .dataframe tbody tr th:only-of-type {\n        vertical-align: middle;\n    }\n\n    .dataframe tbody tr th {\n        vertical-align: top;\n    }\n\n    .dataframe thead th {\n        text-align: right;\n    }\n</style>\n<table border=\"1\" class=\"dataframe\">\n  <thead>\n    <tr style=\"text-align: right;\">\n      <th></th>\n      <th>a</th>\n      <th>b</th>\n      <th>c</th>\n      <th>d</th>\n    </tr>\n  </thead>\n  <tbody>\n    <tr>\n      <th>0</th>\n      <td>0</td>\n      <td>1</td>\n      <td>2</td>\n      <td>3</td>\n    </tr>\n    <tr>\n      <th>1</th>\n      <td>4</td>\n      <td>5</td>\n      <td>6</td>\n      <td>7</td>\n    </tr>\n    <tr>\n      <th>2</th>\n      <td>8</td>\n      <td>9</td>\n      <td>10</td>\n      <td>11</td>\n    </tr>\n    <tr>\n      <th>3</th>\n      <td>12</td>\n      <td>13</td>\n      <td>14</td>\n      <td>15</td>\n    </tr>\n  </tbody>\n</table>\n</div>"
     },
     "metadata": {},
     "execution_count": 8
    }
   ],
   "source": [
    "df"
   ]
  },
  {
   "cell_type": "code",
   "execution_count": 9,
   "metadata": {},
   "outputs": [],
   "source": [
    "df.to_csv('newfile.csv', index=False)"
   ]
  },
  {
   "cell_type": "code",
   "execution_count": null,
   "metadata": {},
   "outputs": [],
   "source": [
    "new = pd.read_csv('newfile.csv')"
   ]
  }
 ]
}