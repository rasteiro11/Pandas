{
 "metadata": {
  "language_info": {
   "codemirror_mode": {
    "name": "ipython",
    "version": 3
   },
   "file_extension": ".py",
   "mimetype": "text/x-python",
   "name": "python",
   "nbconvert_exporter": "python",
   "pygments_lexer": "ipython3",
   "version": "3.8.0"
  },
  "orig_nbformat": 4,
  "kernelspec": {
   "name": "python3",
   "display_name": "Python 3.8.0 64-bit ('tf_gpu': conda)"
  },
  "interpreter": {
   "hash": "bb0a458ef4a5054869513bcb41f4c9ce4fc58844d01ab46d1067383c134a147a"
  }
 },
 "nbformat": 4,
 "nbformat_minor": 2,
 "cells": [
  {
   "cell_type": "code",
   "execution_count": 1,
   "metadata": {},
   "outputs": [],
   "source": [
    "import numpy as np"
   ]
  },
  {
   "cell_type": "code",
   "execution_count": 2,
   "metadata": {},
   "outputs": [],
   "source": [
    "import pandas as pd\n",
    "import html5lib"
   ]
  },
  {
   "cell_type": "code",
   "execution_count": 3,
   "metadata": {},
   "outputs": [],
   "source": [
    "url = 'https://en.wikipedia.org/wiki/World_population'"
   ]
  },
  {
   "cell_type": "code",
   "execution_count": 6,
   "metadata": {},
   "outputs": [],
   "source": [
    "tables = pd.read_html(url, flavor='html5lib')"
   ]
  },
  {
   "cell_type": "code",
   "execution_count": 7,
   "metadata": {},
   "outputs": [
    {
     "output_type": "execute_result",
     "data": {
      "text/plain": [
       "26"
      ]
     },
     "metadata": {},
     "execution_count": 7
    }
   ],
   "source": [
    "len(tables)"
   ]
  },
  {
   "cell_type": "code",
   "execution_count": 14,
   "metadata": {},
   "outputs": [],
   "source": [
    "world_topten = tables[0]"
   ]
  },
  {
   "cell_type": "code",
   "execution_count": 16,
   "metadata": {},
   "outputs": [],
   "source": [
    "world_topten = world_topten['World population (millions, UN estimates)[14]']"
   ]
  },
  {
   "cell_type": "code",
   "execution_count": 18,
   "metadata": {},
   "outputs": [],
   "source": [
    "world_topten = world_topten.drop(11, axis=0)"
   ]
  },
  {
   "cell_type": "code",
   "execution_count": 21,
   "metadata": {},
   "outputs": [],
   "source": [
    "world_topten = world_topten.drop('#', axis=1)"
   ]
  },
  {
   "cell_type": "code",
   "execution_count": 23,
   "metadata": {},
   "outputs": [],
   "source": [
    "world_topten.columns = ['Country', '2000', '2015', '2030 Est.']"
   ]
  },
  {
   "cell_type": "code",
   "execution_count": 24,
   "metadata": {},
   "outputs": [
    {
     "output_type": "execute_result",
     "data": {
      "text/plain": [
       "          Country  2000  2015 2030 Est.\n",
       "0        China[B]  1270  1376      1416\n",
       "1           India  1053  1311      1528\n",
       "2   United States   283   322       356\n",
       "3       Indonesia   212   258       295\n",
       "4        Pakistan   136   208       245\n",
       "5          Brazil   176   206       228\n",
       "6         Nigeria   123   182       263\n",
       "7      Bangladesh   131   161       186\n",
       "8          Russia   146   146       149\n",
       "9          Mexico   103   127       148\n",
       "10    World total  6127  7349      8501"
      ],
      "text/html": "<div>\n<style scoped>\n    .dataframe tbody tr th:only-of-type {\n        vertical-align: middle;\n    }\n\n    .dataframe tbody tr th {\n        vertical-align: top;\n    }\n\n    .dataframe thead th {\n        text-align: right;\n    }\n</style>\n<table border=\"1\" class=\"dataframe\">\n  <thead>\n    <tr style=\"text-align: right;\">\n      <th></th>\n      <th>Country</th>\n      <th>2000</th>\n      <th>2015</th>\n      <th>2030 Est.</th>\n    </tr>\n  </thead>\n  <tbody>\n    <tr>\n      <th>0</th>\n      <td>China[B]</td>\n      <td>1270</td>\n      <td>1376</td>\n      <td>1416</td>\n    </tr>\n    <tr>\n      <th>1</th>\n      <td>India</td>\n      <td>1053</td>\n      <td>1311</td>\n      <td>1528</td>\n    </tr>\n    <tr>\n      <th>2</th>\n      <td>United States</td>\n      <td>283</td>\n      <td>322</td>\n      <td>356</td>\n    </tr>\n    <tr>\n      <th>3</th>\n      <td>Indonesia</td>\n      <td>212</td>\n      <td>258</td>\n      <td>295</td>\n    </tr>\n    <tr>\n      <th>4</th>\n      <td>Pakistan</td>\n      <td>136</td>\n      <td>208</td>\n      <td>245</td>\n    </tr>\n    <tr>\n      <th>5</th>\n      <td>Brazil</td>\n      <td>176</td>\n      <td>206</td>\n      <td>228</td>\n    </tr>\n    <tr>\n      <th>6</th>\n      <td>Nigeria</td>\n      <td>123</td>\n      <td>182</td>\n      <td>263</td>\n    </tr>\n    <tr>\n      <th>7</th>\n      <td>Bangladesh</td>\n      <td>131</td>\n      <td>161</td>\n      <td>186</td>\n    </tr>\n    <tr>\n      <th>8</th>\n      <td>Russia</td>\n      <td>146</td>\n      <td>146</td>\n      <td>149</td>\n    </tr>\n    <tr>\n      <th>9</th>\n      <td>Mexico</td>\n      <td>103</td>\n      <td>127</td>\n      <td>148</td>\n    </tr>\n    <tr>\n      <th>10</th>\n      <td>World total</td>\n      <td>6127</td>\n      <td>7349</td>\n      <td>8501</td>\n    </tr>\n  </tbody>\n</table>\n</div>"
     },
     "metadata": {},
     "execution_count": 24
    }
   ],
   "source": [
    "world_topten"
   ]
  },
  {
   "cell_type": "code",
   "execution_count": 26,
   "metadata": {},
   "outputs": [
    {
     "output_type": "execute_result",
     "data": {
      "text/plain": [
       "             Country  Population  Area(km2)  Density(pop/km2) Population trend\n",
       "Rank                                                                          \n",
       "1              India  1379100000    3287240               420          Growing\n",
       "2           Pakistan   224220000     803940               279          Growing\n",
       "3         Bangladesh   170970000     143998              1187  Rapidly growing\n",
       "4              Japan   126010000     377873               333    Declining[98]\n",
       "5        Philippines   110460000     300000               368          Growing\n",
       "6            Vietnam    96209000     331689               290          Growing\n",
       "7     United Kingdom    66436000     243610               273           Steady\n",
       "8        South Korea    51781000      99538               520           Steady\n",
       "9             Taiwan    23604000      36193               652           Steady\n",
       "10         Sri Lanka    21803000      65610               332          Growing"
      ],
      "text/html": "<div>\n<style scoped>\n    .dataframe tbody tr th:only-of-type {\n        vertical-align: middle;\n    }\n\n    .dataframe tbody tr th {\n        vertical-align: top;\n    }\n\n    .dataframe thead th {\n        text-align: right;\n    }\n</style>\n<table border=\"1\" class=\"dataframe\">\n  <thead>\n    <tr style=\"text-align: right;\">\n      <th></th>\n      <th>Country</th>\n      <th>Population</th>\n      <th>Area(km2)</th>\n      <th>Density(pop/km2)</th>\n      <th>Population trend</th>\n    </tr>\n    <tr>\n      <th>Rank</th>\n      <th></th>\n      <th></th>\n      <th></th>\n      <th></th>\n      <th></th>\n    </tr>\n  </thead>\n  <tbody>\n    <tr>\n      <th>1</th>\n      <td>India</td>\n      <td>1379100000</td>\n      <td>3287240</td>\n      <td>420</td>\n      <td>Growing</td>\n    </tr>\n    <tr>\n      <th>2</th>\n      <td>Pakistan</td>\n      <td>224220000</td>\n      <td>803940</td>\n      <td>279</td>\n      <td>Growing</td>\n    </tr>\n    <tr>\n      <th>3</th>\n      <td>Bangladesh</td>\n      <td>170970000</td>\n      <td>143998</td>\n      <td>1187</td>\n      <td>Rapidly growing</td>\n    </tr>\n    <tr>\n      <th>4</th>\n      <td>Japan</td>\n      <td>126010000</td>\n      <td>377873</td>\n      <td>333</td>\n      <td>Declining[98]</td>\n    </tr>\n    <tr>\n      <th>5</th>\n      <td>Philippines</td>\n      <td>110460000</td>\n      <td>300000</td>\n      <td>368</td>\n      <td>Growing</td>\n    </tr>\n    <tr>\n      <th>6</th>\n      <td>Vietnam</td>\n      <td>96209000</td>\n      <td>331689</td>\n      <td>290</td>\n      <td>Growing</td>\n    </tr>\n    <tr>\n      <th>7</th>\n      <td>United Kingdom</td>\n      <td>66436000</td>\n      <td>243610</td>\n      <td>273</td>\n      <td>Steady</td>\n    </tr>\n    <tr>\n      <th>8</th>\n      <td>South Korea</td>\n      <td>51781000</td>\n      <td>99538</td>\n      <td>520</td>\n      <td>Steady</td>\n    </tr>\n    <tr>\n      <th>9</th>\n      <td>Taiwan</td>\n      <td>23604000</td>\n      <td>36193</td>\n      <td>652</td>\n      <td>Steady</td>\n    </tr>\n    <tr>\n      <th>10</th>\n      <td>Sri Lanka</td>\n      <td>21803000</td>\n      <td>65610</td>\n      <td>332</td>\n      <td>Growing</td>\n    </tr>\n  </tbody>\n</table>\n</div>"
     },
     "metadata": {},
     "execution_count": 26
    }
   ],
   "source": [
    "tables[6].set_index('Rank')"
   ]
  },
  {
   "cell_type": "code",
   "execution_count": null,
   "metadata": {},
   "outputs": [],
   "source": [
    "world_topten.to_html('sample_table.html', index=False)"
   ]
  }
 ]
}