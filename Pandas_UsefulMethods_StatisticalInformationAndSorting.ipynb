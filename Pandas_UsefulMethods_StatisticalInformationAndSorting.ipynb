{
 "metadata": {
  "language_info": {
   "codemirror_mode": {
    "name": "ipython",
    "version": 3
   },
   "file_extension": ".py",
   "mimetype": "text/x-python",
   "name": "python",
   "nbconvert_exporter": "python",
   "pygments_lexer": "ipython3",
   "version": "3.9.5"
  },
  "orig_nbformat": 4,
  "kernelspec": {
   "name": "python3",
   "display_name": "Python 3.9.5 64-bit (windows store)"
  },
  "interpreter": {
   "hash": "3d63908e3980ac177829f34ca6b4122ea4edd056e44316b5e6694f7b721255f3"
  }
 },
 "nbformat": 4,
 "nbformat_minor": 2,
 "cells": [
  {
   "cell_type": "code",
   "execution_count": 1,
   "metadata": {},
   "outputs": [],
   "source": [
    "import numpy as np"
   ]
  },
  {
   "cell_type": "code",
   "execution_count": 2,
   "metadata": {},
   "outputs": [],
   "source": [
    "import pandas as pd"
   ]
  },
  {
   "cell_type": "code",
   "execution_count": 3,
   "metadata": {},
   "outputs": [],
   "source": [
    "df = pd.read_csv('tips.csv')"
   ]
  },
  {
   "cell_type": "code",
   "execution_count": 5,
   "metadata": {},
   "outputs": [
    {
     "output_type": "execute_result",
     "data": {
      "text/plain": [
       "                  count          mean           std           min  \\\n",
       "total_bill        244.0  1.978594e+01  8.902412e+00  3.070000e+00   \n",
       "tip               244.0  2.998279e+00  1.383638e+00  1.000000e+00   \n",
       "size              244.0  2.569672e+00  9.510998e-01  1.000000e+00   \n",
       "price_per_person  244.0  7.888197e+00  2.914234e+00  2.880000e+00   \n",
       "CC Number         244.0  2.563496e+15  2.369340e+15  6.040679e+10   \n",
       "\n",
       "                           25%           50%           75%           max  \n",
       "total_bill        1.334750e+01  1.779500e+01  2.412750e+01  5.081000e+01  \n",
       "tip               2.000000e+00  2.900000e+00  3.562500e+00  1.000000e+01  \n",
       "size              2.000000e+00  2.000000e+00  3.000000e+00  6.000000e+00  \n",
       "price_per_person  5.800000e+00  7.255000e+00  9.390000e+00  2.027000e+01  \n",
       "CC Number         3.040731e+13  3.525318e+15  4.553675e+15  6.596454e+15  "
      ],
      "text/html": "<div>\n<style scoped>\n    .dataframe tbody tr th:only-of-type {\n        vertical-align: middle;\n    }\n\n    .dataframe tbody tr th {\n        vertical-align: top;\n    }\n\n    .dataframe thead th {\n        text-align: right;\n    }\n</style>\n<table border=\"1\" class=\"dataframe\">\n  <thead>\n    <tr style=\"text-align: right;\">\n      <th></th>\n      <th>count</th>\n      <th>mean</th>\n      <th>std</th>\n      <th>min</th>\n      <th>25%</th>\n      <th>50%</th>\n      <th>75%</th>\n      <th>max</th>\n    </tr>\n  </thead>\n  <tbody>\n    <tr>\n      <th>total_bill</th>\n      <td>244.0</td>\n      <td>1.978594e+01</td>\n      <td>8.902412e+00</td>\n      <td>3.070000e+00</td>\n      <td>1.334750e+01</td>\n      <td>1.779500e+01</td>\n      <td>2.412750e+01</td>\n      <td>5.081000e+01</td>\n    </tr>\n    <tr>\n      <th>tip</th>\n      <td>244.0</td>\n      <td>2.998279e+00</td>\n      <td>1.383638e+00</td>\n      <td>1.000000e+00</td>\n      <td>2.000000e+00</td>\n      <td>2.900000e+00</td>\n      <td>3.562500e+00</td>\n      <td>1.000000e+01</td>\n    </tr>\n    <tr>\n      <th>size</th>\n      <td>244.0</td>\n      <td>2.569672e+00</td>\n      <td>9.510998e-01</td>\n      <td>1.000000e+00</td>\n      <td>2.000000e+00</td>\n      <td>2.000000e+00</td>\n      <td>3.000000e+00</td>\n      <td>6.000000e+00</td>\n    </tr>\n    <tr>\n      <th>price_per_person</th>\n      <td>244.0</td>\n      <td>7.888197e+00</td>\n      <td>2.914234e+00</td>\n      <td>2.880000e+00</td>\n      <td>5.800000e+00</td>\n      <td>7.255000e+00</td>\n      <td>9.390000e+00</td>\n      <td>2.027000e+01</td>\n    </tr>\n    <tr>\n      <th>CC Number</th>\n      <td>244.0</td>\n      <td>2.563496e+15</td>\n      <td>2.369340e+15</td>\n      <td>6.040679e+10</td>\n      <td>3.040731e+13</td>\n      <td>3.525318e+15</td>\n      <td>4.553675e+15</td>\n      <td>6.596454e+15</td>\n    </tr>\n  </tbody>\n</table>\n</div>"
     },
     "metadata": {},
     "execution_count": 5
    }
   ],
   "source": [
    "df.describe().transpose()"
   ]
  },
  {
   "cell_type": "code",
   "execution_count": 9,
   "metadata": {},
   "outputs": [
    {
     "output_type": "execute_result",
     "data": {
      "text/plain": [
       "     total_bill    tip     sex smoker   day    time  size  price_per_person  \\\n",
       "170       50.81  10.00    Male    Yes   Sat  Dinner     3             16.94   \n",
       "212       48.33   9.00    Male     No   Sat  Dinner     4             12.08   \n",
       "23        39.42   7.58    Male     No   Sat  Dinner     4              9.86   \n",
       "59        48.27   6.73    Male     No   Sat  Dinner     4             12.07   \n",
       "141       34.30   6.70    Male     No  Thur   Lunch     6              5.72   \n",
       "..          ...    ...     ...    ...   ...     ...   ...               ...   \n",
       "0         16.99   1.01  Female     No   Sun  Dinner     2              8.49   \n",
       "236       12.60   1.00    Male    Yes   Sat  Dinner     2              6.30   \n",
       "111        7.25   1.00  Female     No   Sat  Dinner     1              7.25   \n",
       "67         3.07   1.00  Female    Yes   Sat  Dinner     1              3.07   \n",
       "92         5.75   1.00  Female    Yes   Fri  Dinner     2              2.88   \n",
       "\n",
       "             Payer Name         CC Number Payment ID  \n",
       "170       Gregory Clark  5473850968388236    Sat1954  \n",
       "212     Alex Williamson      676218815212    Sat4590  \n",
       "23       Lance Peterson  3542584061609808     Sat239  \n",
       "59          Brian Ortiz  6596453823950595    Sat8139  \n",
       "141      Steven Carlson  3526515703718508   Thur1025  \n",
       "..                  ...               ...        ...  \n",
       "0    Christy Cunningham  3560325168603410    Sun2959  \n",
       "236       Matthew Myers  3543676378973965    Sat5032  \n",
       "111         Terri Jones  3559221007826887    Sat4801  \n",
       "67        Tiffany Brock  4359488526995267    Sat3455  \n",
       "92         Leah Ramirez  3508911676966392    Fri3780  \n",
       "\n",
       "[244 rows x 11 columns]"
      ],
      "text/html": "<div>\n<style scoped>\n    .dataframe tbody tr th:only-of-type {\n        vertical-align: middle;\n    }\n\n    .dataframe tbody tr th {\n        vertical-align: top;\n    }\n\n    .dataframe thead th {\n        text-align: right;\n    }\n</style>\n<table border=\"1\" class=\"dataframe\">\n  <thead>\n    <tr style=\"text-align: right;\">\n      <th></th>\n      <th>total_bill</th>\n      <th>tip</th>\n      <th>sex</th>\n      <th>smoker</th>\n      <th>day</th>\n      <th>time</th>\n      <th>size</th>\n      <th>price_per_person</th>\n      <th>Payer Name</th>\n      <th>CC Number</th>\n      <th>Payment ID</th>\n    </tr>\n  </thead>\n  <tbody>\n    <tr>\n      <th>170</th>\n      <td>50.81</td>\n      <td>10.00</td>\n      <td>Male</td>\n      <td>Yes</td>\n      <td>Sat</td>\n      <td>Dinner</td>\n      <td>3</td>\n      <td>16.94</td>\n      <td>Gregory Clark</td>\n      <td>5473850968388236</td>\n      <td>Sat1954</td>\n    </tr>\n    <tr>\n      <th>212</th>\n      <td>48.33</td>\n      <td>9.00</td>\n      <td>Male</td>\n      <td>No</td>\n      <td>Sat</td>\n      <td>Dinner</td>\n      <td>4</td>\n      <td>12.08</td>\n      <td>Alex Williamson</td>\n      <td>676218815212</td>\n      <td>Sat4590</td>\n    </tr>\n    <tr>\n      <th>23</th>\n      <td>39.42</td>\n      <td>7.58</td>\n      <td>Male</td>\n      <td>No</td>\n      <td>Sat</td>\n      <td>Dinner</td>\n      <td>4</td>\n      <td>9.86</td>\n      <td>Lance Peterson</td>\n      <td>3542584061609808</td>\n      <td>Sat239</td>\n    </tr>\n    <tr>\n      <th>59</th>\n      <td>48.27</td>\n      <td>6.73</td>\n      <td>Male</td>\n      <td>No</td>\n      <td>Sat</td>\n      <td>Dinner</td>\n      <td>4</td>\n      <td>12.07</td>\n      <td>Brian Ortiz</td>\n      <td>6596453823950595</td>\n      <td>Sat8139</td>\n    </tr>\n    <tr>\n      <th>141</th>\n      <td>34.30</td>\n      <td>6.70</td>\n      <td>Male</td>\n      <td>No</td>\n      <td>Thur</td>\n      <td>Lunch</td>\n      <td>6</td>\n      <td>5.72</td>\n      <td>Steven Carlson</td>\n      <td>3526515703718508</td>\n      <td>Thur1025</td>\n    </tr>\n    <tr>\n      <th>...</th>\n      <td>...</td>\n      <td>...</td>\n      <td>...</td>\n      <td>...</td>\n      <td>...</td>\n      <td>...</td>\n      <td>...</td>\n      <td>...</td>\n      <td>...</td>\n      <td>...</td>\n      <td>...</td>\n    </tr>\n    <tr>\n      <th>0</th>\n      <td>16.99</td>\n      <td>1.01</td>\n      <td>Female</td>\n      <td>No</td>\n      <td>Sun</td>\n      <td>Dinner</td>\n      <td>2</td>\n      <td>8.49</td>\n      <td>Christy Cunningham</td>\n      <td>3560325168603410</td>\n      <td>Sun2959</td>\n    </tr>\n    <tr>\n      <th>236</th>\n      <td>12.60</td>\n      <td>1.00</td>\n      <td>Male</td>\n      <td>Yes</td>\n      <td>Sat</td>\n      <td>Dinner</td>\n      <td>2</td>\n      <td>6.30</td>\n      <td>Matthew Myers</td>\n      <td>3543676378973965</td>\n      <td>Sat5032</td>\n    </tr>\n    <tr>\n      <th>111</th>\n      <td>7.25</td>\n      <td>1.00</td>\n      <td>Female</td>\n      <td>No</td>\n      <td>Sat</td>\n      <td>Dinner</td>\n      <td>1</td>\n      <td>7.25</td>\n      <td>Terri Jones</td>\n      <td>3559221007826887</td>\n      <td>Sat4801</td>\n    </tr>\n    <tr>\n      <th>67</th>\n      <td>3.07</td>\n      <td>1.00</td>\n      <td>Female</td>\n      <td>Yes</td>\n      <td>Sat</td>\n      <td>Dinner</td>\n      <td>1</td>\n      <td>3.07</td>\n      <td>Tiffany Brock</td>\n      <td>4359488526995267</td>\n      <td>Sat3455</td>\n    </tr>\n    <tr>\n      <th>92</th>\n      <td>5.75</td>\n      <td>1.00</td>\n      <td>Female</td>\n      <td>Yes</td>\n      <td>Fri</td>\n      <td>Dinner</td>\n      <td>2</td>\n      <td>2.88</td>\n      <td>Leah Ramirez</td>\n      <td>3508911676966392</td>\n      <td>Fri3780</td>\n    </tr>\n  </tbody>\n</table>\n<p>244 rows × 11 columns</p>\n</div>"
     },
     "metadata": {},
     "execution_count": 9
    }
   ],
   "source": [
    "df.sort_values('tip', ascending=False)"
   ]
  },
  {
   "cell_type": "code",
   "execution_count": 11,
   "metadata": {},
   "outputs": [
    {
     "output_type": "execute_result",
     "data": {
      "text/plain": [
       "     total_bill    tip     sex smoker   day    time  size  price_per_person  \\\n",
       "67         3.07   1.00  Female    Yes   Sat  Dinner     1              3.07   \n",
       "111        7.25   1.00  Female     No   Sat  Dinner     1              7.25   \n",
       "92         5.75   1.00  Female    Yes   Fri  Dinner     2              2.88   \n",
       "236       12.60   1.00    Male    Yes   Sat  Dinner     2              6.30   \n",
       "0         16.99   1.01  Female     No   Sun  Dinner     2              8.49   \n",
       "..          ...    ...     ...    ...   ...     ...   ...               ...   \n",
       "141       34.30   6.70    Male     No  Thur   Lunch     6              5.72   \n",
       "59        48.27   6.73    Male     No   Sat  Dinner     4             12.07   \n",
       "23        39.42   7.58    Male     No   Sat  Dinner     4              9.86   \n",
       "212       48.33   9.00    Male     No   Sat  Dinner     4             12.08   \n",
       "170       50.81  10.00    Male    Yes   Sat  Dinner     3             16.94   \n",
       "\n",
       "             Payer Name         CC Number Payment ID  \n",
       "67        Tiffany Brock  4359488526995267    Sat3455  \n",
       "111         Terri Jones  3559221007826887    Sat4801  \n",
       "92         Leah Ramirez  3508911676966392    Fri3780  \n",
       "236       Matthew Myers  3543676378973965    Sat5032  \n",
       "0    Christy Cunningham  3560325168603410    Sun2959  \n",
       "..                  ...               ...        ...  \n",
       "141      Steven Carlson  3526515703718508   Thur1025  \n",
       "59          Brian Ortiz  6596453823950595    Sat8139  \n",
       "23       Lance Peterson  3542584061609808     Sat239  \n",
       "212     Alex Williamson      676218815212    Sat4590  \n",
       "170       Gregory Clark  5473850968388236    Sat1954  \n",
       "\n",
       "[244 rows x 11 columns]"
      ],
      "text/html": "<div>\n<style scoped>\n    .dataframe tbody tr th:only-of-type {\n        vertical-align: middle;\n    }\n\n    .dataframe tbody tr th {\n        vertical-align: top;\n    }\n\n    .dataframe thead th {\n        text-align: right;\n    }\n</style>\n<table border=\"1\" class=\"dataframe\">\n  <thead>\n    <tr style=\"text-align: right;\">\n      <th></th>\n      <th>total_bill</th>\n      <th>tip</th>\n      <th>sex</th>\n      <th>smoker</th>\n      <th>day</th>\n      <th>time</th>\n      <th>size</th>\n      <th>price_per_person</th>\n      <th>Payer Name</th>\n      <th>CC Number</th>\n      <th>Payment ID</th>\n    </tr>\n  </thead>\n  <tbody>\n    <tr>\n      <th>67</th>\n      <td>3.07</td>\n      <td>1.00</td>\n      <td>Female</td>\n      <td>Yes</td>\n      <td>Sat</td>\n      <td>Dinner</td>\n      <td>1</td>\n      <td>3.07</td>\n      <td>Tiffany Brock</td>\n      <td>4359488526995267</td>\n      <td>Sat3455</td>\n    </tr>\n    <tr>\n      <th>111</th>\n      <td>7.25</td>\n      <td>1.00</td>\n      <td>Female</td>\n      <td>No</td>\n      <td>Sat</td>\n      <td>Dinner</td>\n      <td>1</td>\n      <td>7.25</td>\n      <td>Terri Jones</td>\n      <td>3559221007826887</td>\n      <td>Sat4801</td>\n    </tr>\n    <tr>\n      <th>92</th>\n      <td>5.75</td>\n      <td>1.00</td>\n      <td>Female</td>\n      <td>Yes</td>\n      <td>Fri</td>\n      <td>Dinner</td>\n      <td>2</td>\n      <td>2.88</td>\n      <td>Leah Ramirez</td>\n      <td>3508911676966392</td>\n      <td>Fri3780</td>\n    </tr>\n    <tr>\n      <th>236</th>\n      <td>12.60</td>\n      <td>1.00</td>\n      <td>Male</td>\n      <td>Yes</td>\n      <td>Sat</td>\n      <td>Dinner</td>\n      <td>2</td>\n      <td>6.30</td>\n      <td>Matthew Myers</td>\n      <td>3543676378973965</td>\n      <td>Sat5032</td>\n    </tr>\n    <tr>\n      <th>0</th>\n      <td>16.99</td>\n      <td>1.01</td>\n      <td>Female</td>\n      <td>No</td>\n      <td>Sun</td>\n      <td>Dinner</td>\n      <td>2</td>\n      <td>8.49</td>\n      <td>Christy Cunningham</td>\n      <td>3560325168603410</td>\n      <td>Sun2959</td>\n    </tr>\n    <tr>\n      <th>...</th>\n      <td>...</td>\n      <td>...</td>\n      <td>...</td>\n      <td>...</td>\n      <td>...</td>\n      <td>...</td>\n      <td>...</td>\n      <td>...</td>\n      <td>...</td>\n      <td>...</td>\n      <td>...</td>\n    </tr>\n    <tr>\n      <th>141</th>\n      <td>34.30</td>\n      <td>6.70</td>\n      <td>Male</td>\n      <td>No</td>\n      <td>Thur</td>\n      <td>Lunch</td>\n      <td>6</td>\n      <td>5.72</td>\n      <td>Steven Carlson</td>\n      <td>3526515703718508</td>\n      <td>Thur1025</td>\n    </tr>\n    <tr>\n      <th>59</th>\n      <td>48.27</td>\n      <td>6.73</td>\n      <td>Male</td>\n      <td>No</td>\n      <td>Sat</td>\n      <td>Dinner</td>\n      <td>4</td>\n      <td>12.07</td>\n      <td>Brian Ortiz</td>\n      <td>6596453823950595</td>\n      <td>Sat8139</td>\n    </tr>\n    <tr>\n      <th>23</th>\n      <td>39.42</td>\n      <td>7.58</td>\n      <td>Male</td>\n      <td>No</td>\n      <td>Sat</td>\n      <td>Dinner</td>\n      <td>4</td>\n      <td>9.86</td>\n      <td>Lance Peterson</td>\n      <td>3542584061609808</td>\n      <td>Sat239</td>\n    </tr>\n    <tr>\n      <th>212</th>\n      <td>48.33</td>\n      <td>9.00</td>\n      <td>Male</td>\n      <td>No</td>\n      <td>Sat</td>\n      <td>Dinner</td>\n      <td>4</td>\n      <td>12.08</td>\n      <td>Alex Williamson</td>\n      <td>676218815212</td>\n      <td>Sat4590</td>\n    </tr>\n    <tr>\n      <th>170</th>\n      <td>50.81</td>\n      <td>10.00</td>\n      <td>Male</td>\n      <td>Yes</td>\n      <td>Sat</td>\n      <td>Dinner</td>\n      <td>3</td>\n      <td>16.94</td>\n      <td>Gregory Clark</td>\n      <td>5473850968388236</td>\n      <td>Sat1954</td>\n    </tr>\n  </tbody>\n</table>\n<p>244 rows × 11 columns</p>\n</div>"
     },
     "metadata": {},
     "execution_count": 11
    }
   ],
   "source": [
    "df.sort_values(['tip', 'size'])"
   ]
  },
  {
   "cell_type": "code",
   "execution_count": 13,
   "metadata": {},
   "outputs": [
    {
     "output_type": "execute_result",
     "data": {
      "text/plain": [
       "50.81"
      ]
     },
     "metadata": {},
     "execution_count": 13
    }
   ],
   "source": [
    "df['total_bill'].max()"
   ]
  },
  {
   "cell_type": "code",
   "execution_count": 14,
   "metadata": {},
   "outputs": [
    {
     "output_type": "execute_result",
     "data": {
      "text/plain": [
       "3.07"
      ]
     },
     "metadata": {},
     "execution_count": 14
    }
   ],
   "source": [
    "df['total_bill'].min()"
   ]
  },
  {
   "cell_type": "code",
   "execution_count": 15,
   "metadata": {},
   "outputs": [
    {
     "output_type": "execute_result",
     "data": {
      "text/plain": [
       "170"
      ]
     },
     "metadata": {},
     "execution_count": 15
    }
   ],
   "source": [
    "df['total_bill'].idxmax()"
   ]
  },
  {
   "cell_type": "code",
   "execution_count": 16,
   "metadata": {},
   "outputs": [
    {
     "output_type": "execute_result",
     "data": {
      "text/plain": [
       "67"
      ]
     },
     "metadata": {},
     "execution_count": 16
    }
   ],
   "source": [
    "df['total_bill'].idxmin()"
   ]
  },
  {
   "cell_type": "code",
   "execution_count": 17,
   "metadata": {},
   "outputs": [
    {
     "output_type": "execute_result",
     "data": {
      "text/plain": [
       "total_bill                     50.81\n",
       "tip                             10.0\n",
       "sex                             Male\n",
       "smoker                           Yes\n",
       "day                              Sat\n",
       "time                          Dinner\n",
       "size                               3\n",
       "price_per_person               16.94\n",
       "Payer Name             Gregory Clark\n",
       "CC Number           5473850968388236\n",
       "Payment ID                   Sat1954\n",
       "Name: 170, dtype: object"
      ]
     },
     "metadata": {},
     "execution_count": 17
    }
   ],
   "source": [
    "df.iloc[170]"
   ]
  },
  {
   "cell_type": "code",
   "execution_count": 18,
   "metadata": {},
   "outputs": [
    {
     "output_type": "execute_result",
     "data": {
      "text/plain": [
       "total_bill                      3.07\n",
       "tip                              1.0\n",
       "sex                           Female\n",
       "smoker                           Yes\n",
       "day                              Sat\n",
       "time                          Dinner\n",
       "size                               1\n",
       "price_per_person                3.07\n",
       "Payer Name             Tiffany Brock\n",
       "CC Number           4359488526995267\n",
       "Payment ID                   Sat3455\n",
       "Name: 67, dtype: object"
      ]
     },
     "metadata": {},
     "execution_count": 18
    }
   ],
   "source": [
    "df.iloc[df['total_bill'].idxmin()]"
   ]
  },
  {
   "cell_type": "code",
   "execution_count": 19,
   "metadata": {},
   "outputs": [
    {
     "output_type": "execute_result",
     "data": {
      "text/plain": [
       "                  total_bill       tip      size  price_per_person  CC Number\n",
       "total_bill          1.000000  0.675734  0.598315          0.647554   0.104576\n",
       "tip                 0.675734  1.000000  0.489299          0.347405   0.110857\n",
       "size                0.598315  0.489299  1.000000         -0.175359  -0.030239\n",
       "price_per_person    0.647554  0.347405 -0.175359          1.000000   0.135240\n",
       "CC Number           0.104576  0.110857 -0.030239          0.135240   1.000000"
      ],
      "text/html": "<div>\n<style scoped>\n    .dataframe tbody tr th:only-of-type {\n        vertical-align: middle;\n    }\n\n    .dataframe tbody tr th {\n        vertical-align: top;\n    }\n\n    .dataframe thead th {\n        text-align: right;\n    }\n</style>\n<table border=\"1\" class=\"dataframe\">\n  <thead>\n    <tr style=\"text-align: right;\">\n      <th></th>\n      <th>total_bill</th>\n      <th>tip</th>\n      <th>size</th>\n      <th>price_per_person</th>\n      <th>CC Number</th>\n    </tr>\n  </thead>\n  <tbody>\n    <tr>\n      <th>total_bill</th>\n      <td>1.000000</td>\n      <td>0.675734</td>\n      <td>0.598315</td>\n      <td>0.647554</td>\n      <td>0.104576</td>\n    </tr>\n    <tr>\n      <th>tip</th>\n      <td>0.675734</td>\n      <td>1.000000</td>\n      <td>0.489299</td>\n      <td>0.347405</td>\n      <td>0.110857</td>\n    </tr>\n    <tr>\n      <th>size</th>\n      <td>0.598315</td>\n      <td>0.489299</td>\n      <td>1.000000</td>\n      <td>-0.175359</td>\n      <td>-0.030239</td>\n    </tr>\n    <tr>\n      <th>price_per_person</th>\n      <td>0.647554</td>\n      <td>0.347405</td>\n      <td>-0.175359</td>\n      <td>1.000000</td>\n      <td>0.135240</td>\n    </tr>\n    <tr>\n      <th>CC Number</th>\n      <td>0.104576</td>\n      <td>0.110857</td>\n      <td>-0.030239</td>\n      <td>0.135240</td>\n      <td>1.000000</td>\n    </tr>\n  </tbody>\n</table>\n</div>"
     },
     "metadata": {},
     "execution_count": 19
    }
   ],
   "source": [
    "df.corr()"
   ]
  },
  {
   "cell_type": "code",
   "execution_count": 20,
   "metadata": {},
   "outputs": [
    {
     "output_type": "execute_result",
     "data": {
      "text/plain": [
       "   total_bill   tip     sex smoker  day    time  size  price_per_person  \\\n",
       "0       16.99  1.01  Female     No  Sun  Dinner     2              8.49   \n",
       "1       10.34  1.66    Male     No  Sun  Dinner     3              3.45   \n",
       "2       21.01  3.50    Male     No  Sun  Dinner     3              7.00   \n",
       "3       23.68  3.31    Male     No  Sun  Dinner     2             11.84   \n",
       "4       24.59  3.61  Female     No  Sun  Dinner     4              6.15   \n",
       "\n",
       "           Payer Name         CC Number Payment ID  \n",
       "0  Christy Cunningham  3560325168603410    Sun2959  \n",
       "1      Douglas Tucker  4478071379779230    Sun4608  \n",
       "2      Travis Walters  6011812112971322    Sun4458  \n",
       "3    Nathaniel Harris  4676137647685994    Sun5260  \n",
       "4        Tonya Carter  4832732618637221    Sun2251  "
      ],
      "text/html": "<div>\n<style scoped>\n    .dataframe tbody tr th:only-of-type {\n        vertical-align: middle;\n    }\n\n    .dataframe tbody tr th {\n        vertical-align: top;\n    }\n\n    .dataframe thead th {\n        text-align: right;\n    }\n</style>\n<table border=\"1\" class=\"dataframe\">\n  <thead>\n    <tr style=\"text-align: right;\">\n      <th></th>\n      <th>total_bill</th>\n      <th>tip</th>\n      <th>sex</th>\n      <th>smoker</th>\n      <th>day</th>\n      <th>time</th>\n      <th>size</th>\n      <th>price_per_person</th>\n      <th>Payer Name</th>\n      <th>CC Number</th>\n      <th>Payment ID</th>\n    </tr>\n  </thead>\n  <tbody>\n    <tr>\n      <th>0</th>\n      <td>16.99</td>\n      <td>1.01</td>\n      <td>Female</td>\n      <td>No</td>\n      <td>Sun</td>\n      <td>Dinner</td>\n      <td>2</td>\n      <td>8.49</td>\n      <td>Christy Cunningham</td>\n      <td>3560325168603410</td>\n      <td>Sun2959</td>\n    </tr>\n    <tr>\n      <th>1</th>\n      <td>10.34</td>\n      <td>1.66</td>\n      <td>Male</td>\n      <td>No</td>\n      <td>Sun</td>\n      <td>Dinner</td>\n      <td>3</td>\n      <td>3.45</td>\n      <td>Douglas Tucker</td>\n      <td>4478071379779230</td>\n      <td>Sun4608</td>\n    </tr>\n    <tr>\n      <th>2</th>\n      <td>21.01</td>\n      <td>3.50</td>\n      <td>Male</td>\n      <td>No</td>\n      <td>Sun</td>\n      <td>Dinner</td>\n      <td>3</td>\n      <td>7.00</td>\n      <td>Travis Walters</td>\n      <td>6011812112971322</td>\n      <td>Sun4458</td>\n    </tr>\n    <tr>\n      <th>3</th>\n      <td>23.68</td>\n      <td>3.31</td>\n      <td>Male</td>\n      <td>No</td>\n      <td>Sun</td>\n      <td>Dinner</td>\n      <td>2</td>\n      <td>11.84</td>\n      <td>Nathaniel Harris</td>\n      <td>4676137647685994</td>\n      <td>Sun5260</td>\n    </tr>\n    <tr>\n      <th>4</th>\n      <td>24.59</td>\n      <td>3.61</td>\n      <td>Female</td>\n      <td>No</td>\n      <td>Sun</td>\n      <td>Dinner</td>\n      <td>4</td>\n      <td>6.15</td>\n      <td>Tonya Carter</td>\n      <td>4832732618637221</td>\n      <td>Sun2251</td>\n    </tr>\n  </tbody>\n</table>\n</div>"
     },
     "metadata": {},
     "execution_count": 20
    }
   ],
   "source": [
    "df.head()"
   ]
  },
  {
   "cell_type": "code",
   "execution_count": 21,
   "metadata": {},
   "outputs": [
    {
     "output_type": "execute_result",
     "data": {
      "text/plain": [
       "Male      157\n",
       "Female     87\n",
       "Name: sex, dtype: int64"
      ]
     },
     "metadata": {},
     "execution_count": 21
    }
   ],
   "source": [
    "df['sex'].value_counts()"
   ]
  },
  {
   "cell_type": "code",
   "execution_count": 22,
   "metadata": {},
   "outputs": [
    {
     "output_type": "execute_result",
     "data": {
      "text/plain": [
       "array(['Sun', 'Sat', 'Thur', 'Fri'], dtype=object)"
      ]
     },
     "metadata": {},
     "execution_count": 22
    }
   ],
   "source": [
    "df['day'].unique()"
   ]
  },
  {
   "cell_type": "code",
   "execution_count": 23,
   "metadata": {},
   "outputs": [
    {
     "output_type": "execute_result",
     "data": {
      "text/plain": [
       "4"
      ]
     },
     "metadata": {},
     "execution_count": 23
    }
   ],
   "source": [
    "df['day'].nunique()"
   ]
  },
  {
   "cell_type": "code",
   "execution_count": 24,
   "metadata": {},
   "outputs": [
    {
     "output_type": "execute_result",
     "data": {
      "text/plain": [
       "Sat     87\n",
       "Sun     76\n",
       "Thur    62\n",
       "Fri     19\n",
       "Name: day, dtype: int64"
      ]
     },
     "metadata": {},
     "execution_count": 24
    }
   ],
   "source": [
    "df['day'].value_counts()"
   ]
  },
  {
   "cell_type": "code",
   "execution_count": 25,
   "metadata": {},
   "outputs": [
    {
     "output_type": "execute_result",
     "data": {
      "text/plain": [
       "   total_bill   tip     sex smoker  day    time  size  price_per_person  \\\n",
       "0       16.99  1.01  Female     No  Sun  Dinner     2              8.49   \n",
       "1       10.34  1.66    Male     No  Sun  Dinner     3              3.45   \n",
       "2       21.01  3.50    Male     No  Sun  Dinner     3              7.00   \n",
       "3       23.68  3.31    Male     No  Sun  Dinner     2             11.84   \n",
       "4       24.59  3.61  Female     No  Sun  Dinner     4              6.15   \n",
       "\n",
       "           Payer Name         CC Number Payment ID  \n",
       "0  Christy Cunningham  3560325168603410    Sun2959  \n",
       "1      Douglas Tucker  4478071379779230    Sun4608  \n",
       "2      Travis Walters  6011812112971322    Sun4458  \n",
       "3    Nathaniel Harris  4676137647685994    Sun5260  \n",
       "4        Tonya Carter  4832732618637221    Sun2251  "
      ],
      "text/html": "<div>\n<style scoped>\n    .dataframe tbody tr th:only-of-type {\n        vertical-align: middle;\n    }\n\n    .dataframe tbody tr th {\n        vertical-align: top;\n    }\n\n    .dataframe thead th {\n        text-align: right;\n    }\n</style>\n<table border=\"1\" class=\"dataframe\">\n  <thead>\n    <tr style=\"text-align: right;\">\n      <th></th>\n      <th>total_bill</th>\n      <th>tip</th>\n      <th>sex</th>\n      <th>smoker</th>\n      <th>day</th>\n      <th>time</th>\n      <th>size</th>\n      <th>price_per_person</th>\n      <th>Payer Name</th>\n      <th>CC Number</th>\n      <th>Payment ID</th>\n    </tr>\n  </thead>\n  <tbody>\n    <tr>\n      <th>0</th>\n      <td>16.99</td>\n      <td>1.01</td>\n      <td>Female</td>\n      <td>No</td>\n      <td>Sun</td>\n      <td>Dinner</td>\n      <td>2</td>\n      <td>8.49</td>\n      <td>Christy Cunningham</td>\n      <td>3560325168603410</td>\n      <td>Sun2959</td>\n    </tr>\n    <tr>\n      <th>1</th>\n      <td>10.34</td>\n      <td>1.66</td>\n      <td>Male</td>\n      <td>No</td>\n      <td>Sun</td>\n      <td>Dinner</td>\n      <td>3</td>\n      <td>3.45</td>\n      <td>Douglas Tucker</td>\n      <td>4478071379779230</td>\n      <td>Sun4608</td>\n    </tr>\n    <tr>\n      <th>2</th>\n      <td>21.01</td>\n      <td>3.50</td>\n      <td>Male</td>\n      <td>No</td>\n      <td>Sun</td>\n      <td>Dinner</td>\n      <td>3</td>\n      <td>7.00</td>\n      <td>Travis Walters</td>\n      <td>6011812112971322</td>\n      <td>Sun4458</td>\n    </tr>\n    <tr>\n      <th>3</th>\n      <td>23.68</td>\n      <td>3.31</td>\n      <td>Male</td>\n      <td>No</td>\n      <td>Sun</td>\n      <td>Dinner</td>\n      <td>2</td>\n      <td>11.84</td>\n      <td>Nathaniel Harris</td>\n      <td>4676137647685994</td>\n      <td>Sun5260</td>\n    </tr>\n    <tr>\n      <th>4</th>\n      <td>24.59</td>\n      <td>3.61</td>\n      <td>Female</td>\n      <td>No</td>\n      <td>Sun</td>\n      <td>Dinner</td>\n      <td>4</td>\n      <td>6.15</td>\n      <td>Tonya Carter</td>\n      <td>4832732618637221</td>\n      <td>Sun2251</td>\n    </tr>\n  </tbody>\n</table>\n</div>"
     },
     "metadata": {},
     "execution_count": 25
    }
   ],
   "source": [
    "df.head()"
   ]
  },
  {
   "cell_type": "code",
   "execution_count": 26,
   "metadata": {},
   "outputs": [
    {
     "output_type": "execute_result",
     "data": {
      "text/plain": [
       "0         F\n",
       "1      Male\n",
       "2      Male\n",
       "3      Male\n",
       "4         F\n",
       "       ... \n",
       "239    Male\n",
       "240       F\n",
       "241    Male\n",
       "242    Male\n",
       "243       F\n",
       "Name: sex, Length: 244, dtype: object"
      ]
     },
     "metadata": {},
     "execution_count": 26
    }
   ],
   "source": [
    "df['sex'].replace('Female', 'F')"
   ]
  },
  {
   "cell_type": "code",
   "execution_count": 27,
   "metadata": {},
   "outputs": [
    {
     "output_type": "execute_result",
     "data": {
      "text/plain": [
       "0      F\n",
       "1      M\n",
       "2      M\n",
       "3      M\n",
       "4      F\n",
       "      ..\n",
       "239    M\n",
       "240    F\n",
       "241    M\n",
       "242    M\n",
       "243    F\n",
       "Name: sex, Length: 244, dtype: object"
      ]
     },
     "metadata": {},
     "execution_count": 27
    }
   ],
   "source": [
    "df['sex'].replace(['Female', 'Male'], ['F', 'M'])"
   ]
  },
  {
   "cell_type": "code",
   "execution_count": 28,
   "metadata": {},
   "outputs": [],
   "source": [
    "mymap = {'Female': 'F', 'Male': 'M'}"
   ]
  },
  {
   "cell_type": "code",
   "execution_count": 29,
   "metadata": {},
   "outputs": [
    {
     "output_type": "execute_result",
     "data": {
      "text/plain": [
       "0      F\n",
       "1      M\n",
       "2      M\n",
       "3      M\n",
       "4      F\n",
       "      ..\n",
       "239    M\n",
       "240    F\n",
       "241    M\n",
       "242    M\n",
       "243    F\n",
       "Name: sex, Length: 244, dtype: object"
      ]
     },
     "metadata": {},
     "execution_count": 29
    }
   ],
   "source": [
    "df['sex'].map(mymap)"
   ]
  },
  {
   "cell_type": "code",
   "execution_count": 30,
   "metadata": {},
   "outputs": [
    {
     "output_type": "execute_result",
     "data": {
      "text/plain": [
       "0      False\n",
       "1      False\n",
       "2      False\n",
       "3      False\n",
       "4      False\n",
       "       ...  \n",
       "239    False\n",
       "240    False\n",
       "241    False\n",
       "242    False\n",
       "243    False\n",
       "Length: 244, dtype: bool"
      ]
     },
     "metadata": {},
     "execution_count": 30
    }
   ],
   "source": [
    "df.duplicated()"
   ]
  },
  {
   "cell_type": "code",
   "execution_count": 35,
   "metadata": {},
   "outputs": [],
   "source": [
    "simple_df = pd.DataFrame([1,2,2, 2], ['a', 'b', 'c', 'd'])"
   ]
  },
  {
   "cell_type": "code",
   "execution_count": 36,
   "metadata": {},
   "outputs": [
    {
     "output_type": "execute_result",
     "data": {
      "text/plain": [
       "   0\n",
       "a  1\n",
       "b  2\n",
       "c  2\n",
       "d  2"
      ],
      "text/html": "<div>\n<style scoped>\n    .dataframe tbody tr th:only-of-type {\n        vertical-align: middle;\n    }\n\n    .dataframe tbody tr th {\n        vertical-align: top;\n    }\n\n    .dataframe thead th {\n        text-align: right;\n    }\n</style>\n<table border=\"1\" class=\"dataframe\">\n  <thead>\n    <tr style=\"text-align: right;\">\n      <th></th>\n      <th>0</th>\n    </tr>\n  </thead>\n  <tbody>\n    <tr>\n      <th>a</th>\n      <td>1</td>\n    </tr>\n    <tr>\n      <th>b</th>\n      <td>2</td>\n    </tr>\n    <tr>\n      <th>c</th>\n      <td>2</td>\n    </tr>\n    <tr>\n      <th>d</th>\n      <td>2</td>\n    </tr>\n  </tbody>\n</table>\n</div>"
     },
     "metadata": {},
     "execution_count": 36
    }
   ],
   "source": [
    "simple_df"
   ]
  },
  {
   "cell_type": "code",
   "execution_count": 37,
   "metadata": {},
   "outputs": [
    {
     "output_type": "execute_result",
     "data": {
      "text/plain": [
       "a    False\n",
       "b    False\n",
       "c     True\n",
       "d     True\n",
       "dtype: bool"
      ]
     },
     "metadata": {},
     "execution_count": 37
    }
   ],
   "source": [
    "simple_df.duplicated()"
   ]
  },
  {
   "cell_type": "code",
   "execution_count": 38,
   "metadata": {},
   "outputs": [
    {
     "output_type": "execute_result",
     "data": {
      "text/plain": [
       "   0\n",
       "a  1\n",
       "b  2"
      ],
      "text/html": "<div>\n<style scoped>\n    .dataframe tbody tr th:only-of-type {\n        vertical-align: middle;\n    }\n\n    .dataframe tbody tr th {\n        vertical-align: top;\n    }\n\n    .dataframe thead th {\n        text-align: right;\n    }\n</style>\n<table border=\"1\" class=\"dataframe\">\n  <thead>\n    <tr style=\"text-align: right;\">\n      <th></th>\n      <th>0</th>\n    </tr>\n  </thead>\n  <tbody>\n    <tr>\n      <th>a</th>\n      <td>1</td>\n    </tr>\n    <tr>\n      <th>b</th>\n      <td>2</td>\n    </tr>\n  </tbody>\n</table>\n</div>"
     },
     "metadata": {},
     "execution_count": 38
    }
   ],
   "source": [
    "simple_df.drop_duplicates()"
   ]
  },
  {
   "cell_type": "code",
   "execution_count": 42,
   "metadata": {},
   "outputs": [
    {
     "output_type": "execute_result",
     "data": {
      "text/plain": [
       "     total_bill   tip     sex smoker   day    time  size  price_per_person  \\\n",
       "0         16.99  1.01  Female     No   Sun  Dinner     2              8.49   \n",
       "1         10.34  1.66    Male     No   Sun  Dinner     3              3.45   \n",
       "8         15.04  1.96    Male     No   Sun  Dinner     2              7.52   \n",
       "9         14.78  3.23    Male     No   Sun  Dinner     2              7.39   \n",
       "10        10.27  1.71    Male     No   Sun  Dinner     2              5.14   \n",
       "..          ...   ...     ...    ...   ...     ...   ...               ...   \n",
       "234       15.53  3.00    Male    Yes   Sat  Dinner     2              7.76   \n",
       "235       10.07  1.25    Male     No   Sat  Dinner     2              5.04   \n",
       "236       12.60  1.00    Male    Yes   Sat  Dinner     2              6.30   \n",
       "242       17.82  1.75    Male     No   Sat  Dinner     2              8.91   \n",
       "243       18.78  3.00  Female     No  Thur  Dinner     2              9.39   \n",
       "\n",
       "             Payer Name         CC Number Payment ID  \n",
       "0    Christy Cunningham  3560325168603410    Sun2959  \n",
       "1        Douglas Tucker  4478071379779230    Sun4608  \n",
       "8       Joseph Mcdonald  3522866365840377    Sun6820  \n",
       "9         Jerome Abbott  3532124519049786    Sun3775  \n",
       "10        William Riley      566287581219    Sun2546  \n",
       "..                  ...               ...        ...  \n",
       "234       Tracy Douglas  4097938155941930    Sat7220  \n",
       "235       Sean Gonzalez  3534021246117605    Sat4615  \n",
       "236       Matthew Myers  3543676378973965    Sat5032  \n",
       "242        Dennis Dixon     4375220550950      Sat17  \n",
       "243     Michelle Hardin  3511451626698139    Thur672  \n",
       "\n",
       "[130 rows x 11 columns]"
      ],
      "text/html": "<div>\n<style scoped>\n    .dataframe tbody tr th:only-of-type {\n        vertical-align: middle;\n    }\n\n    .dataframe tbody tr th {\n        vertical-align: top;\n    }\n\n    .dataframe thead th {\n        text-align: right;\n    }\n</style>\n<table border=\"1\" class=\"dataframe\">\n  <thead>\n    <tr style=\"text-align: right;\">\n      <th></th>\n      <th>total_bill</th>\n      <th>tip</th>\n      <th>sex</th>\n      <th>smoker</th>\n      <th>day</th>\n      <th>time</th>\n      <th>size</th>\n      <th>price_per_person</th>\n      <th>Payer Name</th>\n      <th>CC Number</th>\n      <th>Payment ID</th>\n    </tr>\n  </thead>\n  <tbody>\n    <tr>\n      <th>0</th>\n      <td>16.99</td>\n      <td>1.01</td>\n      <td>Female</td>\n      <td>No</td>\n      <td>Sun</td>\n      <td>Dinner</td>\n      <td>2</td>\n      <td>8.49</td>\n      <td>Christy Cunningham</td>\n      <td>3560325168603410</td>\n      <td>Sun2959</td>\n    </tr>\n    <tr>\n      <th>1</th>\n      <td>10.34</td>\n      <td>1.66</td>\n      <td>Male</td>\n      <td>No</td>\n      <td>Sun</td>\n      <td>Dinner</td>\n      <td>3</td>\n      <td>3.45</td>\n      <td>Douglas Tucker</td>\n      <td>4478071379779230</td>\n      <td>Sun4608</td>\n    </tr>\n    <tr>\n      <th>8</th>\n      <td>15.04</td>\n      <td>1.96</td>\n      <td>Male</td>\n      <td>No</td>\n      <td>Sun</td>\n      <td>Dinner</td>\n      <td>2</td>\n      <td>7.52</td>\n      <td>Joseph Mcdonald</td>\n      <td>3522866365840377</td>\n      <td>Sun6820</td>\n    </tr>\n    <tr>\n      <th>9</th>\n      <td>14.78</td>\n      <td>3.23</td>\n      <td>Male</td>\n      <td>No</td>\n      <td>Sun</td>\n      <td>Dinner</td>\n      <td>2</td>\n      <td>7.39</td>\n      <td>Jerome Abbott</td>\n      <td>3532124519049786</td>\n      <td>Sun3775</td>\n    </tr>\n    <tr>\n      <th>10</th>\n      <td>10.27</td>\n      <td>1.71</td>\n      <td>Male</td>\n      <td>No</td>\n      <td>Sun</td>\n      <td>Dinner</td>\n      <td>2</td>\n      <td>5.14</td>\n      <td>William Riley</td>\n      <td>566287581219</td>\n      <td>Sun2546</td>\n    </tr>\n    <tr>\n      <th>...</th>\n      <td>...</td>\n      <td>...</td>\n      <td>...</td>\n      <td>...</td>\n      <td>...</td>\n      <td>...</td>\n      <td>...</td>\n      <td>...</td>\n      <td>...</td>\n      <td>...</td>\n      <td>...</td>\n    </tr>\n    <tr>\n      <th>234</th>\n      <td>15.53</td>\n      <td>3.00</td>\n      <td>Male</td>\n      <td>Yes</td>\n      <td>Sat</td>\n      <td>Dinner</td>\n      <td>2</td>\n      <td>7.76</td>\n      <td>Tracy Douglas</td>\n      <td>4097938155941930</td>\n      <td>Sat7220</td>\n    </tr>\n    <tr>\n      <th>235</th>\n      <td>10.07</td>\n      <td>1.25</td>\n      <td>Male</td>\n      <td>No</td>\n      <td>Sat</td>\n      <td>Dinner</td>\n      <td>2</td>\n      <td>5.04</td>\n      <td>Sean Gonzalez</td>\n      <td>3534021246117605</td>\n      <td>Sat4615</td>\n    </tr>\n    <tr>\n      <th>236</th>\n      <td>12.60</td>\n      <td>1.00</td>\n      <td>Male</td>\n      <td>Yes</td>\n      <td>Sat</td>\n      <td>Dinner</td>\n      <td>2</td>\n      <td>6.30</td>\n      <td>Matthew Myers</td>\n      <td>3543676378973965</td>\n      <td>Sat5032</td>\n    </tr>\n    <tr>\n      <th>242</th>\n      <td>17.82</td>\n      <td>1.75</td>\n      <td>Male</td>\n      <td>No</td>\n      <td>Sat</td>\n      <td>Dinner</td>\n      <td>2</td>\n      <td>8.91</td>\n      <td>Dennis Dixon</td>\n      <td>4375220550950</td>\n      <td>Sat17</td>\n    </tr>\n    <tr>\n      <th>243</th>\n      <td>18.78</td>\n      <td>3.00</td>\n      <td>Female</td>\n      <td>No</td>\n      <td>Thur</td>\n      <td>Dinner</td>\n      <td>2</td>\n      <td>9.39</td>\n      <td>Michelle Hardin</td>\n      <td>3511451626698139</td>\n      <td>Thur672</td>\n    </tr>\n  </tbody>\n</table>\n<p>130 rows × 11 columns</p>\n</div>"
     },
     "metadata": {},
     "execution_count": 42
    }
   ],
   "source": [
    "df[df['total_bill'].between(10, 20, inclusive=True)]"
   ]
  },
  {
   "cell_type": "code",
   "execution_count": 44,
   "metadata": {},
   "outputs": [
    {
     "output_type": "execute_result",
     "data": {
      "text/plain": [
       "     total_bill    tip     sex smoker   day    time  size  price_per_person  \\\n",
       "170       50.81  10.00    Male    Yes   Sat  Dinner     3             16.94   \n",
       "212       48.33   9.00    Male     No   Sat  Dinner     4             12.08   \n",
       "23        39.42   7.58    Male     No   Sat  Dinner     4              9.86   \n",
       "59        48.27   6.73    Male     No   Sat  Dinner     4             12.07   \n",
       "141       34.30   6.70    Male     No  Thur   Lunch     6              5.72   \n",
       "183       23.17   6.50    Male    Yes   Sun  Dinner     4              5.79   \n",
       "214       28.17   6.50  Female    Yes   Sat  Dinner     3              9.39   \n",
       "47        32.40   6.00    Male     No   Sun  Dinner     4              8.10   \n",
       "239       29.03   5.92    Male     No   Sat  Dinner     3              9.68   \n",
       "88        24.71   5.85    Male     No  Thur   Lunch     2             12.36   \n",
       "\n",
       "            Payer Name         CC Number Payment ID  \n",
       "170      Gregory Clark  5473850968388236    Sat1954  \n",
       "212    Alex Williamson      676218815212    Sat4590  \n",
       "23      Lance Peterson  3542584061609808     Sat239  \n",
       "59         Brian Ortiz  6596453823950595    Sat8139  \n",
       "141     Steven Carlson  3526515703718508   Thur1025  \n",
       "183  Dr. Michael James     4718501859162    Sun6059  \n",
       "214    Marissa Jackson  4922302538691962    Sat3374  \n",
       "47        James Barnes  3552002592874186    Sun9677  \n",
       "239      Michael Avila  5296068606052842    Sat2657  \n",
       "88        Roger Taylor     4410248629955   Thur9003  "
      ],
      "text/html": "<div>\n<style scoped>\n    .dataframe tbody tr th:only-of-type {\n        vertical-align: middle;\n    }\n\n    .dataframe tbody tr th {\n        vertical-align: top;\n    }\n\n    .dataframe thead th {\n        text-align: right;\n    }\n</style>\n<table border=\"1\" class=\"dataframe\">\n  <thead>\n    <tr style=\"text-align: right;\">\n      <th></th>\n      <th>total_bill</th>\n      <th>tip</th>\n      <th>sex</th>\n      <th>smoker</th>\n      <th>day</th>\n      <th>time</th>\n      <th>size</th>\n      <th>price_per_person</th>\n      <th>Payer Name</th>\n      <th>CC Number</th>\n      <th>Payment ID</th>\n    </tr>\n  </thead>\n  <tbody>\n    <tr>\n      <th>170</th>\n      <td>50.81</td>\n      <td>10.00</td>\n      <td>Male</td>\n      <td>Yes</td>\n      <td>Sat</td>\n      <td>Dinner</td>\n      <td>3</td>\n      <td>16.94</td>\n      <td>Gregory Clark</td>\n      <td>5473850968388236</td>\n      <td>Sat1954</td>\n    </tr>\n    <tr>\n      <th>212</th>\n      <td>48.33</td>\n      <td>9.00</td>\n      <td>Male</td>\n      <td>No</td>\n      <td>Sat</td>\n      <td>Dinner</td>\n      <td>4</td>\n      <td>12.08</td>\n      <td>Alex Williamson</td>\n      <td>676218815212</td>\n      <td>Sat4590</td>\n    </tr>\n    <tr>\n      <th>23</th>\n      <td>39.42</td>\n      <td>7.58</td>\n      <td>Male</td>\n      <td>No</td>\n      <td>Sat</td>\n      <td>Dinner</td>\n      <td>4</td>\n      <td>9.86</td>\n      <td>Lance Peterson</td>\n      <td>3542584061609808</td>\n      <td>Sat239</td>\n    </tr>\n    <tr>\n      <th>59</th>\n      <td>48.27</td>\n      <td>6.73</td>\n      <td>Male</td>\n      <td>No</td>\n      <td>Sat</td>\n      <td>Dinner</td>\n      <td>4</td>\n      <td>12.07</td>\n      <td>Brian Ortiz</td>\n      <td>6596453823950595</td>\n      <td>Sat8139</td>\n    </tr>\n    <tr>\n      <th>141</th>\n      <td>34.30</td>\n      <td>6.70</td>\n      <td>Male</td>\n      <td>No</td>\n      <td>Thur</td>\n      <td>Lunch</td>\n      <td>6</td>\n      <td>5.72</td>\n      <td>Steven Carlson</td>\n      <td>3526515703718508</td>\n      <td>Thur1025</td>\n    </tr>\n    <tr>\n      <th>183</th>\n      <td>23.17</td>\n      <td>6.50</td>\n      <td>Male</td>\n      <td>Yes</td>\n      <td>Sun</td>\n      <td>Dinner</td>\n      <td>4</td>\n      <td>5.79</td>\n      <td>Dr. Michael James</td>\n      <td>4718501859162</td>\n      <td>Sun6059</td>\n    </tr>\n    <tr>\n      <th>214</th>\n      <td>28.17</td>\n      <td>6.50</td>\n      <td>Female</td>\n      <td>Yes</td>\n      <td>Sat</td>\n      <td>Dinner</td>\n      <td>3</td>\n      <td>9.39</td>\n      <td>Marissa Jackson</td>\n      <td>4922302538691962</td>\n      <td>Sat3374</td>\n    </tr>\n    <tr>\n      <th>47</th>\n      <td>32.40</td>\n      <td>6.00</td>\n      <td>Male</td>\n      <td>No</td>\n      <td>Sun</td>\n      <td>Dinner</td>\n      <td>4</td>\n      <td>8.10</td>\n      <td>James Barnes</td>\n      <td>3552002592874186</td>\n      <td>Sun9677</td>\n    </tr>\n    <tr>\n      <th>239</th>\n      <td>29.03</td>\n      <td>5.92</td>\n      <td>Male</td>\n      <td>No</td>\n      <td>Sat</td>\n      <td>Dinner</td>\n      <td>3</td>\n      <td>9.68</td>\n      <td>Michael Avila</td>\n      <td>5296068606052842</td>\n      <td>Sat2657</td>\n    </tr>\n    <tr>\n      <th>88</th>\n      <td>24.71</td>\n      <td>5.85</td>\n      <td>Male</td>\n      <td>No</td>\n      <td>Thur</td>\n      <td>Lunch</td>\n      <td>2</td>\n      <td>12.36</td>\n      <td>Roger Taylor</td>\n      <td>4410248629955</td>\n      <td>Thur9003</td>\n    </tr>\n  </tbody>\n</table>\n</div>"
     },
     "metadata": {},
     "execution_count": 44
    }
   ],
   "source": [
    "df.nlargest(10, 'tip')"
   ]
  },
  {
   "cell_type": "code",
   "execution_count": 45,
   "metadata": {},
   "outputs": [
    {
     "output_type": "execute_result",
     "data": {
      "text/plain": [
       "     total_bill   tip     sex smoker   day    time  size  price_per_person  \\\n",
       "67         3.07  1.00  Female    Yes   Sat  Dinner     1              3.07   \n",
       "92         5.75  1.00  Female    Yes   Fri  Dinner     2              2.88   \n",
       "111        7.25  1.00  Female     No   Sat  Dinner     1              7.25   \n",
       "236       12.60  1.00    Male    Yes   Sat  Dinner     2              6.30   \n",
       "0         16.99  1.01  Female     No   Sun  Dinner     2              8.49   \n",
       "215       12.90  1.10  Female    Yes   Sat  Dinner     2              6.45   \n",
       "237       32.83  1.17    Male    Yes   Sat  Dinner     2             16.42   \n",
       "75        10.51  1.25    Male     No   Sat  Dinner     2              5.26   \n",
       "135        8.51  1.25  Female     No  Thur   Lunch     2              4.26   \n",
       "235       10.07  1.25    Male     No   Sat  Dinner     2              5.04   \n",
       "\n",
       "             Payer Name         CC Number Payment ID  \n",
       "67        Tiffany Brock  4359488526995267    Sat3455  \n",
       "92         Leah Ramirez  3508911676966392    Fri3780  \n",
       "111         Terri Jones  3559221007826887    Sat4801  \n",
       "236       Matthew Myers  3543676378973965    Sat5032  \n",
       "0    Christy Cunningham  3560325168603410    Sun2959  \n",
       "215        Jessica Owen     4726904879471    Sat6983  \n",
       "237        Thomas Brown  4284722681265508    Sat2929  \n",
       "75        Kenneth Hayes   213142079731108    Sat5056  \n",
       "135      Rebecca Harris  4320272020376174   Thur6600  \n",
       "235       Sean Gonzalez  3534021246117605    Sat4615  "
      ],
      "text/html": "<div>\n<style scoped>\n    .dataframe tbody tr th:only-of-type {\n        vertical-align: middle;\n    }\n\n    .dataframe tbody tr th {\n        vertical-align: top;\n    }\n\n    .dataframe thead th {\n        text-align: right;\n    }\n</style>\n<table border=\"1\" class=\"dataframe\">\n  <thead>\n    <tr style=\"text-align: right;\">\n      <th></th>\n      <th>total_bill</th>\n      <th>tip</th>\n      <th>sex</th>\n      <th>smoker</th>\n      <th>day</th>\n      <th>time</th>\n      <th>size</th>\n      <th>price_per_person</th>\n      <th>Payer Name</th>\n      <th>CC Number</th>\n      <th>Payment ID</th>\n    </tr>\n  </thead>\n  <tbody>\n    <tr>\n      <th>67</th>\n      <td>3.07</td>\n      <td>1.00</td>\n      <td>Female</td>\n      <td>Yes</td>\n      <td>Sat</td>\n      <td>Dinner</td>\n      <td>1</td>\n      <td>3.07</td>\n      <td>Tiffany Brock</td>\n      <td>4359488526995267</td>\n      <td>Sat3455</td>\n    </tr>\n    <tr>\n      <th>92</th>\n      <td>5.75</td>\n      <td>1.00</td>\n      <td>Female</td>\n      <td>Yes</td>\n      <td>Fri</td>\n      <td>Dinner</td>\n      <td>2</td>\n      <td>2.88</td>\n      <td>Leah Ramirez</td>\n      <td>3508911676966392</td>\n      <td>Fri3780</td>\n    </tr>\n    <tr>\n      <th>111</th>\n      <td>7.25</td>\n      <td>1.00</td>\n      <td>Female</td>\n      <td>No</td>\n      <td>Sat</td>\n      <td>Dinner</td>\n      <td>1</td>\n      <td>7.25</td>\n      <td>Terri Jones</td>\n      <td>3559221007826887</td>\n      <td>Sat4801</td>\n    </tr>\n    <tr>\n      <th>236</th>\n      <td>12.60</td>\n      <td>1.00</td>\n      <td>Male</td>\n      <td>Yes</td>\n      <td>Sat</td>\n      <td>Dinner</td>\n      <td>2</td>\n      <td>6.30</td>\n      <td>Matthew Myers</td>\n      <td>3543676378973965</td>\n      <td>Sat5032</td>\n    </tr>\n    <tr>\n      <th>0</th>\n      <td>16.99</td>\n      <td>1.01</td>\n      <td>Female</td>\n      <td>No</td>\n      <td>Sun</td>\n      <td>Dinner</td>\n      <td>2</td>\n      <td>8.49</td>\n      <td>Christy Cunningham</td>\n      <td>3560325168603410</td>\n      <td>Sun2959</td>\n    </tr>\n    <tr>\n      <th>215</th>\n      <td>12.90</td>\n      <td>1.10</td>\n      <td>Female</td>\n      <td>Yes</td>\n      <td>Sat</td>\n      <td>Dinner</td>\n      <td>2</td>\n      <td>6.45</td>\n      <td>Jessica Owen</td>\n      <td>4726904879471</td>\n      <td>Sat6983</td>\n    </tr>\n    <tr>\n      <th>237</th>\n      <td>32.83</td>\n      <td>1.17</td>\n      <td>Male</td>\n      <td>Yes</td>\n      <td>Sat</td>\n      <td>Dinner</td>\n      <td>2</td>\n      <td>16.42</td>\n      <td>Thomas Brown</td>\n      <td>4284722681265508</td>\n      <td>Sat2929</td>\n    </tr>\n    <tr>\n      <th>75</th>\n      <td>10.51</td>\n      <td>1.25</td>\n      <td>Male</td>\n      <td>No</td>\n      <td>Sat</td>\n      <td>Dinner</td>\n      <td>2</td>\n      <td>5.26</td>\n      <td>Kenneth Hayes</td>\n      <td>213142079731108</td>\n      <td>Sat5056</td>\n    </tr>\n    <tr>\n      <th>135</th>\n      <td>8.51</td>\n      <td>1.25</td>\n      <td>Female</td>\n      <td>No</td>\n      <td>Thur</td>\n      <td>Lunch</td>\n      <td>2</td>\n      <td>4.26</td>\n      <td>Rebecca Harris</td>\n      <td>4320272020376174</td>\n      <td>Thur6600</td>\n    </tr>\n    <tr>\n      <th>235</th>\n      <td>10.07</td>\n      <td>1.25</td>\n      <td>Male</td>\n      <td>No</td>\n      <td>Sat</td>\n      <td>Dinner</td>\n      <td>2</td>\n      <td>5.04</td>\n      <td>Sean Gonzalez</td>\n      <td>3534021246117605</td>\n      <td>Sat4615</td>\n    </tr>\n  </tbody>\n</table>\n</div>"
     },
     "metadata": {},
     "execution_count": 45
    }
   ],
   "source": [
    "df.nsmallest(10, 'tip')"
   ]
  },
  {
   "cell_type": "code",
   "execution_count": 46,
   "metadata": {},
   "outputs": [
    {
     "output_type": "execute_result",
     "data": {
      "text/plain": [
       "     total_bill   tip     sex smoker   day    time  size  price_per_person  \\\n",
       "186       20.90  3.50  Female    Yes   Sun  Dinner     3              6.97   \n",
       "150       14.07  2.50    Male     No   Sun  Dinner     2              7.04   \n",
       "103       22.42  3.48  Female    Yes   Sat  Dinner     2             11.21   \n",
       "200       18.71  4.00    Male    Yes  Thur   Lunch     3              6.24   \n",
       "161       12.66  2.50    Male     No   Sun  Dinner     2              6.33   \n",
       "\n",
       "           Payer Name         CC Number Payment ID  \n",
       "186    Heidi Atkinson  4422858423131187    Sun4254  \n",
       "150         Luke Rice  4813617017359506    Sun8863  \n",
       "103  Kathleen Hawkins   348009865484721    Sat1015  \n",
       "200      Jason Conrad     4581233003487   Thur6048  \n",
       "161   Brandon Oconnor  4406882156920533    Sun5879  "
      ],
      "text/html": "<div>\n<style scoped>\n    .dataframe tbody tr th:only-of-type {\n        vertical-align: middle;\n    }\n\n    .dataframe tbody tr th {\n        vertical-align: top;\n    }\n\n    .dataframe thead th {\n        text-align: right;\n    }\n</style>\n<table border=\"1\" class=\"dataframe\">\n  <thead>\n    <tr style=\"text-align: right;\">\n      <th></th>\n      <th>total_bill</th>\n      <th>tip</th>\n      <th>sex</th>\n      <th>smoker</th>\n      <th>day</th>\n      <th>time</th>\n      <th>size</th>\n      <th>price_per_person</th>\n      <th>Payer Name</th>\n      <th>CC Number</th>\n      <th>Payment ID</th>\n    </tr>\n  </thead>\n  <tbody>\n    <tr>\n      <th>186</th>\n      <td>20.90</td>\n      <td>3.50</td>\n      <td>Female</td>\n      <td>Yes</td>\n      <td>Sun</td>\n      <td>Dinner</td>\n      <td>3</td>\n      <td>6.97</td>\n      <td>Heidi Atkinson</td>\n      <td>4422858423131187</td>\n      <td>Sun4254</td>\n    </tr>\n    <tr>\n      <th>150</th>\n      <td>14.07</td>\n      <td>2.50</td>\n      <td>Male</td>\n      <td>No</td>\n      <td>Sun</td>\n      <td>Dinner</td>\n      <td>2</td>\n      <td>7.04</td>\n      <td>Luke Rice</td>\n      <td>4813617017359506</td>\n      <td>Sun8863</td>\n    </tr>\n    <tr>\n      <th>103</th>\n      <td>22.42</td>\n      <td>3.48</td>\n      <td>Female</td>\n      <td>Yes</td>\n      <td>Sat</td>\n      <td>Dinner</td>\n      <td>2</td>\n      <td>11.21</td>\n      <td>Kathleen Hawkins</td>\n      <td>348009865484721</td>\n      <td>Sat1015</td>\n    </tr>\n    <tr>\n      <th>200</th>\n      <td>18.71</td>\n      <td>4.00</td>\n      <td>Male</td>\n      <td>Yes</td>\n      <td>Thur</td>\n      <td>Lunch</td>\n      <td>3</td>\n      <td>6.24</td>\n      <td>Jason Conrad</td>\n      <td>4581233003487</td>\n      <td>Thur6048</td>\n    </tr>\n    <tr>\n      <th>161</th>\n      <td>12.66</td>\n      <td>2.50</td>\n      <td>Male</td>\n      <td>No</td>\n      <td>Sun</td>\n      <td>Dinner</td>\n      <td>2</td>\n      <td>6.33</td>\n      <td>Brandon Oconnor</td>\n      <td>4406882156920533</td>\n      <td>Sun5879</td>\n    </tr>\n  </tbody>\n</table>\n</div>"
     },
     "metadata": {},
     "execution_count": 46
    }
   ],
   "source": [
    "df.sample(5)"
   ]
  },
  {
   "cell_type": "code",
   "execution_count": 48,
   "metadata": {},
   "outputs": [
    {
     "output_type": "execute_result",
     "data": {
      "text/plain": [
       "total_bill                     12.66\n",
       "tip                              2.5\n",
       "sex                             Male\n",
       "smoker                            No\n",
       "day                              Sun\n",
       "time                          Dinner\n",
       "size                               2\n",
       "price_per_person                6.33\n",
       "Payer Name           Brandon Oconnor\n",
       "CC Number           4406882156920533\n",
       "Payment ID                   Sun5879\n",
       "Name: 161, dtype: object"
      ]
     },
     "metadata": {},
     "execution_count": 48
    }
   ],
   "source": [
    "df.loc[161]"
   ]
  },
  {
   "cell_type": "code",
   "execution_count": 49,
   "metadata": {},
   "outputs": [
    {
     "output_type": "execute_result",
     "data": {
      "text/plain": [
       "     total_bill   tip     sex smoker   day    time  size  price_per_person  \\\n",
       "209       12.76  2.23  Female    Yes   Sat  Dinner     2              6.38   \n",
       "26        13.37  2.00    Male     No   Sat  Dinner     2              6.68   \n",
       "139       13.16  2.75  Female     No  Thur   Lunch     2              6.58   \n",
       "141       34.30  6.70    Male     No  Thur   Lunch     6              5.72   \n",
       "14        14.83  3.02  Female     No   Sun  Dinner     2              7.42   \n",
       "70        12.02  1.97    Male     No   Sat  Dinner     2              6.01   \n",
       "91        22.49  3.50    Male     No   Fri  Dinner     2             11.24   \n",
       "27        12.69  2.00    Male     No   Sat  Dinner     2              6.34   \n",
       "233       10.77  1.47    Male     No   Sat  Dinner     2              5.38   \n",
       "96        27.28  4.00    Male    Yes   Fri  Dinner     2             13.64   \n",
       "67         3.07  1.00  Female    Yes   Sat  Dinner     1              3.07   \n",
       "144       16.43  2.30  Female     No  Thur   Lunch     2              8.22   \n",
       "194       16.58  4.00    Male    Yes  Thur   Lunch     2              8.29   \n",
       "161       12.66  2.50    Male     No   Sun  Dinner     2              6.33   \n",
       "215       12.90  1.10  Female    Yes   Sat  Dinner     2              6.45   \n",
       "202       13.00  2.00  Female    Yes  Thur   Lunch     2              6.50   \n",
       "17        16.29  3.71    Male     No   Sun  Dinner     3              5.43   \n",
       "157       25.00  3.75  Female     No   Sun  Dinner     4              6.25   \n",
       "232       11.61  3.39    Male     No   Sat  Dinner     2              5.80   \n",
       "237       32.83  1.17    Male    Yes   Sat  Dinner     2             16.42   \n",
       "188       18.15  3.50  Female    Yes   Sun  Dinner     3              6.05   \n",
       "124       12.48  2.52  Female     No  Thur   Lunch     2              6.24   \n",
       "114       25.71  4.00  Female     No   Sun  Dinner     3              8.57   \n",
       "126        8.52  1.48    Male     No  Thur   Lunch     2              4.26   \n",
       "\n",
       "           Payer Name         CC Number Payment ID  \n",
       "209  Sarah Cunningham   341876516331163    Sat1274  \n",
       "26         Kyle Avery  6531339539615499    Sat6651  \n",
       "139     Lindsey Meyer      676239597203   Thur6245  \n",
       "141    Steven Carlson  3526515703718508   Thur1025  \n",
       "14      Vanessa Jones    30016702287574    Sun3848  \n",
       "70          Max Brown   213139760497718    Sat2100  \n",
       "91          Earl Horn  6011849326227398    Fri5700  \n",
       "27     Patrick Barber    30155551880343     Sat394  \n",
       "233        Paul Novak  6011698897610858    Sat1467  \n",
       "96        Eric Carter  4563054452787961    Fri3159  \n",
       "67      Tiffany Brock  4359488526995267    Sat3455  \n",
       "144       Linda Jones  6542729219645658   Thur9002  \n",
       "194    Benjamin Weber      676210011505   Thur9318  \n",
       "161   Brandon Oconnor  4406882156920533    Sun5879  \n",
       "215      Jessica Owen     4726904879471    Sat6983  \n",
       "202       Ashley Shaw   180088043008041   Thur1301  \n",
       "17       John Pittman  6521340257218708    Sun2998  \n",
       "157      Laura Robles   213158685144262    Sun7015  \n",
       "232      James Taylor  6011482917327995    Sat2124  \n",
       "237      Thomas Brown  4284722681265508    Sat2929  \n",
       "188    Glenda Wiggins      578329325307     Sun430  \n",
       "124       Jordan Diaz  4472778228206399    Thur208  \n",
       "114       Katie Smith  5400160161311292    Sun6492  \n",
       "126    Mario Bradshaw  4524404353861811   Thur6719  "
      ],
      "text/html": "<div>\n<style scoped>\n    .dataframe tbody tr th:only-of-type {\n        vertical-align: middle;\n    }\n\n    .dataframe tbody tr th {\n        vertical-align: top;\n    }\n\n    .dataframe thead th {\n        text-align: right;\n    }\n</style>\n<table border=\"1\" class=\"dataframe\">\n  <thead>\n    <tr style=\"text-align: right;\">\n      <th></th>\n      <th>total_bill</th>\n      <th>tip</th>\n      <th>sex</th>\n      <th>smoker</th>\n      <th>day</th>\n      <th>time</th>\n      <th>size</th>\n      <th>price_per_person</th>\n      <th>Payer Name</th>\n      <th>CC Number</th>\n      <th>Payment ID</th>\n    </tr>\n  </thead>\n  <tbody>\n    <tr>\n      <th>209</th>\n      <td>12.76</td>\n      <td>2.23</td>\n      <td>Female</td>\n      <td>Yes</td>\n      <td>Sat</td>\n      <td>Dinner</td>\n      <td>2</td>\n      <td>6.38</td>\n      <td>Sarah Cunningham</td>\n      <td>341876516331163</td>\n      <td>Sat1274</td>\n    </tr>\n    <tr>\n      <th>26</th>\n      <td>13.37</td>\n      <td>2.00</td>\n      <td>Male</td>\n      <td>No</td>\n      <td>Sat</td>\n      <td>Dinner</td>\n      <td>2</td>\n      <td>6.68</td>\n      <td>Kyle Avery</td>\n      <td>6531339539615499</td>\n      <td>Sat6651</td>\n    </tr>\n    <tr>\n      <th>139</th>\n      <td>13.16</td>\n      <td>2.75</td>\n      <td>Female</td>\n      <td>No</td>\n      <td>Thur</td>\n      <td>Lunch</td>\n      <td>2</td>\n      <td>6.58</td>\n      <td>Lindsey Meyer</td>\n      <td>676239597203</td>\n      <td>Thur6245</td>\n    </tr>\n    <tr>\n      <th>141</th>\n      <td>34.30</td>\n      <td>6.70</td>\n      <td>Male</td>\n      <td>No</td>\n      <td>Thur</td>\n      <td>Lunch</td>\n      <td>6</td>\n      <td>5.72</td>\n      <td>Steven Carlson</td>\n      <td>3526515703718508</td>\n      <td>Thur1025</td>\n    </tr>\n    <tr>\n      <th>14</th>\n      <td>14.83</td>\n      <td>3.02</td>\n      <td>Female</td>\n      <td>No</td>\n      <td>Sun</td>\n      <td>Dinner</td>\n      <td>2</td>\n      <td>7.42</td>\n      <td>Vanessa Jones</td>\n      <td>30016702287574</td>\n      <td>Sun3848</td>\n    </tr>\n    <tr>\n      <th>70</th>\n      <td>12.02</td>\n      <td>1.97</td>\n      <td>Male</td>\n      <td>No</td>\n      <td>Sat</td>\n      <td>Dinner</td>\n      <td>2</td>\n      <td>6.01</td>\n      <td>Max Brown</td>\n      <td>213139760497718</td>\n      <td>Sat2100</td>\n    </tr>\n    <tr>\n      <th>91</th>\n      <td>22.49</td>\n      <td>3.50</td>\n      <td>Male</td>\n      <td>No</td>\n      <td>Fri</td>\n      <td>Dinner</td>\n      <td>2</td>\n      <td>11.24</td>\n      <td>Earl Horn</td>\n      <td>6011849326227398</td>\n      <td>Fri5700</td>\n    </tr>\n    <tr>\n      <th>27</th>\n      <td>12.69</td>\n      <td>2.00</td>\n      <td>Male</td>\n      <td>No</td>\n      <td>Sat</td>\n      <td>Dinner</td>\n      <td>2</td>\n      <td>6.34</td>\n      <td>Patrick Barber</td>\n      <td>30155551880343</td>\n      <td>Sat394</td>\n    </tr>\n    <tr>\n      <th>233</th>\n      <td>10.77</td>\n      <td>1.47</td>\n      <td>Male</td>\n      <td>No</td>\n      <td>Sat</td>\n      <td>Dinner</td>\n      <td>2</td>\n      <td>5.38</td>\n      <td>Paul Novak</td>\n      <td>6011698897610858</td>\n      <td>Sat1467</td>\n    </tr>\n    <tr>\n      <th>96</th>\n      <td>27.28</td>\n      <td>4.00</td>\n      <td>Male</td>\n      <td>Yes</td>\n      <td>Fri</td>\n      <td>Dinner</td>\n      <td>2</td>\n      <td>13.64</td>\n      <td>Eric Carter</td>\n      <td>4563054452787961</td>\n      <td>Fri3159</td>\n    </tr>\n    <tr>\n      <th>67</th>\n      <td>3.07</td>\n      <td>1.00</td>\n      <td>Female</td>\n      <td>Yes</td>\n      <td>Sat</td>\n      <td>Dinner</td>\n      <td>1</td>\n      <td>3.07</td>\n      <td>Tiffany Brock</td>\n      <td>4359488526995267</td>\n      <td>Sat3455</td>\n    </tr>\n    <tr>\n      <th>144</th>\n      <td>16.43</td>\n      <td>2.30</td>\n      <td>Female</td>\n      <td>No</td>\n      <td>Thur</td>\n      <td>Lunch</td>\n      <td>2</td>\n      <td>8.22</td>\n      <td>Linda Jones</td>\n      <td>6542729219645658</td>\n      <td>Thur9002</td>\n    </tr>\n    <tr>\n      <th>194</th>\n      <td>16.58</td>\n      <td>4.00</td>\n      <td>Male</td>\n      <td>Yes</td>\n      <td>Thur</td>\n      <td>Lunch</td>\n      <td>2</td>\n      <td>8.29</td>\n      <td>Benjamin Weber</td>\n      <td>676210011505</td>\n      <td>Thur9318</td>\n    </tr>\n    <tr>\n      <th>161</th>\n      <td>12.66</td>\n      <td>2.50</td>\n      <td>Male</td>\n      <td>No</td>\n      <td>Sun</td>\n      <td>Dinner</td>\n      <td>2</td>\n      <td>6.33</td>\n      <td>Brandon Oconnor</td>\n      <td>4406882156920533</td>\n      <td>Sun5879</td>\n    </tr>\n    <tr>\n      <th>215</th>\n      <td>12.90</td>\n      <td>1.10</td>\n      <td>Female</td>\n      <td>Yes</td>\n      <td>Sat</td>\n      <td>Dinner</td>\n      <td>2</td>\n      <td>6.45</td>\n      <td>Jessica Owen</td>\n      <td>4726904879471</td>\n      <td>Sat6983</td>\n    </tr>\n    <tr>\n      <th>202</th>\n      <td>13.00</td>\n      <td>2.00</td>\n      <td>Female</td>\n      <td>Yes</td>\n      <td>Thur</td>\n      <td>Lunch</td>\n      <td>2</td>\n      <td>6.50</td>\n      <td>Ashley Shaw</td>\n      <td>180088043008041</td>\n      <td>Thur1301</td>\n    </tr>\n    <tr>\n      <th>17</th>\n      <td>16.29</td>\n      <td>3.71</td>\n      <td>Male</td>\n      <td>No</td>\n      <td>Sun</td>\n      <td>Dinner</td>\n      <td>3</td>\n      <td>5.43</td>\n      <td>John Pittman</td>\n      <td>6521340257218708</td>\n      <td>Sun2998</td>\n    </tr>\n    <tr>\n      <th>157</th>\n      <td>25.00</td>\n      <td>3.75</td>\n      <td>Female</td>\n      <td>No</td>\n      <td>Sun</td>\n      <td>Dinner</td>\n      <td>4</td>\n      <td>6.25</td>\n      <td>Laura Robles</td>\n      <td>213158685144262</td>\n      <td>Sun7015</td>\n    </tr>\n    <tr>\n      <th>232</th>\n      <td>11.61</td>\n      <td>3.39</td>\n      <td>Male</td>\n      <td>No</td>\n      <td>Sat</td>\n      <td>Dinner</td>\n      <td>2</td>\n      <td>5.80</td>\n      <td>James Taylor</td>\n      <td>6011482917327995</td>\n      <td>Sat2124</td>\n    </tr>\n    <tr>\n      <th>237</th>\n      <td>32.83</td>\n      <td>1.17</td>\n      <td>Male</td>\n      <td>Yes</td>\n      <td>Sat</td>\n      <td>Dinner</td>\n      <td>2</td>\n      <td>16.42</td>\n      <td>Thomas Brown</td>\n      <td>4284722681265508</td>\n      <td>Sat2929</td>\n    </tr>\n    <tr>\n      <th>188</th>\n      <td>18.15</td>\n      <td>3.50</td>\n      <td>Female</td>\n      <td>Yes</td>\n      <td>Sun</td>\n      <td>Dinner</td>\n      <td>3</td>\n      <td>6.05</td>\n      <td>Glenda Wiggins</td>\n      <td>578329325307</td>\n      <td>Sun430</td>\n    </tr>\n    <tr>\n      <th>124</th>\n      <td>12.48</td>\n      <td>2.52</td>\n      <td>Female</td>\n      <td>No</td>\n      <td>Thur</td>\n      <td>Lunch</td>\n      <td>2</td>\n      <td>6.24</td>\n      <td>Jordan Diaz</td>\n      <td>4472778228206399</td>\n      <td>Thur208</td>\n    </tr>\n    <tr>\n      <th>114</th>\n      <td>25.71</td>\n      <td>4.00</td>\n      <td>Female</td>\n      <td>No</td>\n      <td>Sun</td>\n      <td>Dinner</td>\n      <td>3</td>\n      <td>8.57</td>\n      <td>Katie Smith</td>\n      <td>5400160161311292</td>\n      <td>Sun6492</td>\n    </tr>\n    <tr>\n      <th>126</th>\n      <td>8.52</td>\n      <td>1.48</td>\n      <td>Male</td>\n      <td>No</td>\n      <td>Thur</td>\n      <td>Lunch</td>\n      <td>2</td>\n      <td>4.26</td>\n      <td>Mario Bradshaw</td>\n      <td>4524404353861811</td>\n      <td>Thur6719</td>\n    </tr>\n  </tbody>\n</table>\n</div>"
     },
     "metadata": {},
     "execution_count": 49
    }
   ],
   "source": [
    "df.sample(frac=0.10)"
   ]
  },
  {
   "cell_type": "code",
   "execution_count": null,
   "metadata": {},
   "outputs": [],
   "source": []
  }
 ]
}